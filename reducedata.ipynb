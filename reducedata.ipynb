{
 "cells": [
  {
   "cell_type": "code",
   "execution_count": 1,
   "metadata": {},
   "outputs": [],
   "source": [
    "import pandas as pd\n",
    "import numpy as np\n",
    "import os\n",
    "import glob\n",
    "from power_to_temperature import *\n",
    "from test import *"
   ]
  },
  {
   "cell_type": "code",
   "execution_count": null,
   "metadata": {},
   "outputs": [
    {
     "data": {
      "text/plain": [
       "7629.161707711557"
      ]
     },
     "execution_count": 2,
     "metadata": {},
     "output_type": "execute_result"
    }
   ],
   "source": [
    "freqs,vals,bwidth = bandwidth(50.,90.)\n",
    "Freqs = np.linspace(1e-22,250,32769)\n",
    "eta_nu = eta(Freqs)\n",
    "mask = (Freqs>=50)&(Freqs<=91)\n",
    "bwidth"
   ]
  },
  {
   "cell_type": "code",
   "execution_count": null,
   "metadata": {},
   "outputs": [],
   "source": [
    "folders = glob.glob('Data/*')\n",
    "folders.sort()\n",
    "i=-1\n",
    "for subdirs, dirs, files in os.walk('Data'):\n",
    "    dirs.sort()\n",
    "    files.sort()\n",
    "    short,antenna,measure = [],[],[]\n",
    "    short_date,antenna_date,measure_date=[],[],[]\n",
    "    for file in files:\n",
    "        path = os.path.join(subdirs,file)\n",
    "        date = file.split(\"_\")[0]\n",
    "        if  os.path.getsize(path)==0:\n",
    "            print 'EMPTY FILE:',path\n",
    "            continue\n",
    "        elif file.endswith('short.dat'):\n",
    "            dB_short = np.loadtxt(path,unpack=True)\n",
    "            T_short = Res2Temp(dB_short,bwidth)\n",
    "            short.append(T_short),short_date.append(date)\n",
    "        elif file.endswith('noise.dat'):\n",
    "            dB_noise = np.loadtxt(path,unpack=True)\n",
    "        elif file.endswith('antenna.dat'):\n",
    "            dB_antenna = np.loadtxt(path,unpack=True)\n",
    "            dB_clean = dB_antenna - dB_noise\n",
    "            T_antenna = Radio_source_trans(dB_clean, Freqs, bwidth)\n",
    "            T_measure = T_antenna/eta_nu - T_short\n",
    "            antenna.append(T_antenna),measure.append(T_measure)\n",
    "            antenna_date.append(date),measure_date.append(date)\n",
    "            \n",
    "    if i>=0 and antenna and short and measure:\n",
    "        name = os.path.normpath(folders[i])\n",
    "        name = name.split(\"/\")[1]\n",
    "        short = np.transpose(short)\n",
    "        antenna = np.transpose(antenna)\n",
    "        measure = np.transpose(measure)\n",
    "        short_table = pd.DataFrame(short[mask], index = Freqs[mask], columns = short_date)\n",
    "        short_table.to_hdf('Data_filter/short/'+name+'.hdf5','df')\n",
    "        antenna_table = pd.DataFrame(antenna[mask], index = Freqs[mask], columns = antenna_date)\n",
    "        antenna_table.to_hdf('Data_filter/antenna/'+name+'.hdf5','df')\n",
    "        measure_table = pd.DataFrame(measure[mask], index = Freqs[mask], columns = measure_date)\n",
    "        measure_table.to_hdf('Data_filter/Tmeas/'+name+'.hdf5','df')\n",
    "    i+=1\n",
    "    "
   ]
  },
  {
   "cell_type": "code",
   "execution_count": null,
   "metadata": {},
   "outputs": [],
   "source": [
    "day14 = glob.glob('Data_filter/Tmeas/2013-06-14*')\n",
    "dfs = []\n",
    "for path in day14:\n",
    "    dfs.append(pd.read_hdf(path))\n",
    "big_frame1 = pd.concat(dfs, axis = 1)\n",
    "big_frame1.to_hdf('calibration/Day14.hdf5','df')"
   ]
  },
  {
   "cell_type": "code",
   "execution_count": null,
   "metadata": {},
   "outputs": [],
   "source": [
    "day15 = glob.glob('Data_filter/Tmeas/2013-06-15*')\n",
    "dfs = []\n",
    "for path in day15:\n",
    "    dfs.append(pd.read_hdf(path))\n",
    "big_frame2 = pd.concat(dfs, axis = 1)\n",
    "big_frame2.to_hdf('calibration/Day15.hdf5','df')"
   ]
  },
  {
   "cell_type": "code",
   "execution_count": null,
   "metadata": {},
   "outputs": [],
   "source": [
    "all_data = [big_frame1,big_frame2]\n",
    "day14_15 = pd.concat(all_data,axis=1)\n",
    "day14_15.to_hdf('calibration/Days14_15.hdf5','df')"
   ]
  },
  {
   "cell_type": "code",
   "execution_count": null,
   "metadata": {},
   "outputs": [],
   "source": []
  }
 ],
 "metadata": {
  "kernelspec": {
   "display_name": "Python 2",
   "language": "python",
   "name": "python2"
  },
  "language_info": {
   "codemirror_mode": {
    "name": "ipython",
    "version": 2
   },
   "file_extension": ".py",
   "mimetype": "text/x-python",
   "name": "python",
   "nbconvert_exporter": "python",
   "pygments_lexer": "ipython2",
   "version": "2.7.14"
  }
 },
 "nbformat": 4,
 "nbformat_minor": 2
}
