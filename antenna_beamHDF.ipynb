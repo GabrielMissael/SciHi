{
 "cells": [
  {
   "cell_type": "code",
   "execution_count": 1,
   "metadata": {},
   "outputs": [],
   "source": [
    "import numpy as np\n",
    "import pandas as pd"
   ]
  },
  {
   "cell_type": "markdown",
   "metadata": {},
   "source": [
    "This program is used to convert the .dat files given by SCI-HI of the antenna beam pattern into HDF5 files, there should be a folder named antenna_beam in the foldder."
   ]
  },
  {
   "cell_type": "code",
   "execution_count": null,
   "metadata": {},
   "outputs": [],
   "source": [
    "if not os.path.exists('antenna_beam'):\n",
    "     os.makedirs('antenna_beam')"
   ]
  },
  {
   "cell_type": "code",
   "execution_count": null,
   "metadata": {},
   "outputs": [],
   "source": [
    "pathtbeam = 'antenna_beam/'"
   ]
  },
  {
   "cell_type": "code",
   "execution_count": 2,
   "metadata": {},
   "outputs": [],
   "source": [
    "Freqs = np.arange(50,91)\n",
    "for f in Freqs:\n",
    "    infile = pathtobeam+\"0%dMHz.txt\"%f\n",
    "    Data = np.loadtxt(infile)\n",
    "    df = pd.DataFrame(data = Data,columns = ['Theta','Phi','dB']) \n",
    "    df.to_hdf('antenna_beam/0%dMHz.hdf5'%f,'df')"
   ]
  },
  {
   "cell_type": "code",
   "execution_count": null,
   "metadata": {},
   "outputs": [],
   "source": []
  }
 ],
 "metadata": {
  "kernelspec": {
   "display_name": "Python 2",
   "language": "python",
   "name": "python2"
  },
  "language_info": {
   "codemirror_mode": {
    "name": "ipython",
    "version": 2
   },
   "file_extension": ".py",
   "mimetype": "text/x-python",
   "name": "python",
   "nbconvert_exporter": "python",
   "pygments_lexer": "ipython2",
   "version": "2.7.15"
  }
 },
 "nbformat": 4,
 "nbformat_minor": 2
}
