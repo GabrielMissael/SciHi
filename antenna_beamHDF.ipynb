{
 "cells": [
  {
   "cell_type": "code",
   "execution_count": 1,
   "metadata": {},
   "outputs": [],
   "source": [
    "import numpy as np\n",
    "import pandas as pd\n",
    "\n",
    "#This program transforms the antenna beam pattern file into a HDF file\n",
    "#Just in case\n"
   ]
  },
  {
   "cell_type": "code",
   "execution_count": 2,
   "metadata": {},
   "outputs": [],
   "source": [
    "Freqs = np.arange(50,91)\n",
    "for f in Freqs:\n",
    "    infile = \"antenna_beam/0%dMHz.txt\"%f\n",
    "    Data = np.loadtxt(infile)\n",
    "    df = pd.DataFrame(data = Data,columns = ['Theta','Phi','dB']) \n",
    "    df.to_hdf('antenna_beam/0%dMHz.hdf5'%f,'df')"
   ]
  },
  {
   "cell_type": "code",
   "execution_count": 45,
   "metadata": {},
   "outputs": [
    {
     "data": {
      "text/plain": [
       "array([[ -90.    ,  -90.    , -314.7816],\n",
       "       [ -89.    ,  -90.    ,  -22.6066],\n",
       "       [ -88.    ,  -90.    ,  -18.0454],\n",
       "       ..., \n",
       "       [  88.    ,   90.    ,  -18.0454],\n",
       "       [  89.    ,   90.    ,  -22.6066],\n",
       "       [  90.    ,   90.    , -317.5422]])"
      ]
     },
     "execution_count": 45,
     "metadata": {},
     "output_type": "execute_result"
    }
   ],
   "source": []
  },
  {
   "cell_type": "code",
   "execution_count": null,
   "metadata": {},
   "outputs": [],
   "source": []
  }
 ],
 "metadata": {
  "kernelspec": {
   "display_name": "Python 2",
   "language": "python",
   "name": "python2"
  },
  "language_info": {
   "codemirror_mode": {
    "name": "ipython",
    "version": 2
   },
   "file_extension": ".py",
   "mimetype": "text/x-python",
   "name": "python",
   "nbconvert_exporter": "python",
   "pygments_lexer": "ipython2",
   "version": "2.7.14"
  }
 },
 "nbformat": 4,
 "nbformat_minor": 2
}
