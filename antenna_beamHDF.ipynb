{
 "cells": [
  {
   "cell_type": "code",
   "execution_count": 1,
   "metadata": {},
   "outputs": [],
   "source": [
    "import numpy as np\n",
    "import pandas as pd"
   ]
  },
  {
   "cell_type": "markdown",
   "metadata": {},
   "source": [
    "This program is used to convert the .dat files given by SCI-HI of the antenna beam pattern into HDF5 files, there should be a folder named antenna_beam in the foldder.\n",
    "\n",
    "If the folder is not created this notebook will fail, to create the folder write in the terminal 'mkdir gsm_maps' within this directory, or '! mkdir gsm_maps' in a cell in this notebook."
   ]
  },
  {
   "cell_type": "code",
   "execution_count": 2,
   "metadata": {},
   "outputs": [],
   "source": [
    "Freqs = np.arange(50,91)\n",
    "for f in Freqs:\n",
    "    infile = \"antenna_beam/0%dMHz.txt\"%f\n",
    "    Data = np.loadtxt(infile)\n",
    "    df = pd.DataFrame(data = Data,columns = ['Theta','Phi','dB']) \n",
    "    df.to_hdf('antenna_beam/0%dMHz.hdf5'%f,'df')"
   ]
  },
  {
   "cell_type": "code",
   "execution_count": null,
   "metadata": {},
   "outputs": [],
   "source": []
  }
 ],
 "metadata": {
  "kernelspec": {
   "display_name": "Python 2",
   "language": "python",
   "name": "python2"
  },
  "language_info": {
   "codemirror_mode": {
    "name": "ipython",
    "version": 2
   },
   "file_extension": ".py",
   "mimetype": "text/x-python",
   "name": "python",
   "nbconvert_exporter": "python",
   "pygments_lexer": "ipython2",
   "version": "2.7.14"
  }
 },
 "nbformat": 4,
 "nbformat_minor": 2
}
