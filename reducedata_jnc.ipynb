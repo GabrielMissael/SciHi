{
 "cells": [
  {
   "cell_type": "code",
   "execution_count": 10,
   "metadata": {},
   "outputs": [],
   "source": [
    "import pandas as pd\n",
    "import numpy as np\n",
    "import os\n",
    "import glob\n",
    "from power_to_temperature import *\n",
    "from test import *"
   ]
  },
  {
   "cell_type": "code",
   "execution_count": 11,
   "metadata": {},
   "outputs": [],
   "source": [
    "freqs,vals,bwidth = bandwidth(50.,90.)\n",
    "Freqs = np.linspace(1e-22,250,32769)\n",
    "eta_nu = eta(Freqs)\n",
    "mask = (Freqs>=50)&(Freqs<=91)\n",
    "bwidth\n",
    "\n",
    "P = lambda source: 10.0**((source - 30.) / 10.0) # dBm to Watts"
   ]
  },
  {
   "cell_type": "code",
   "execution_count": 19,
   "metadata": {},
   "outputs": [
    {
     "name": "stdout",
     "output_type": "stream",
     "text": [
      "298.43 [ 8022.86295818  7414.39111037  7115.23871701 ...,  6101.84240856\n",
      "  6377.22849167  6393.10326326] [ 3.194862  3.489418  3.639984 ...,  4.07367   3.896523  3.886719] [ 85.88928726  86.69339476  86.78536034 ...,  83.29220375  83.26581608\n",
      "  83.2630631 ]\n",
      "298.43 [ 8036.26370897  7410.6488952   7100.0168824  ...,  6118.72153034\n",
      "  6392.17936139  6404.43582141] [ 3.194862  3.489418  3.639984 ...,  4.07367   3.896523  3.886719] [ 86.03274988  86.6496386   86.59969792 ...,  83.52260944  83.46102571\n",
      "  83.41065708]\n",
      "298.43 [ 8033.0223658   7405.85391047  7106.89240099 ...,  6103.09678797\n",
      "  6379.83207536  6400.54339329] [ 3.194862  3.489418  3.639984 ...,  4.07367   3.896523  3.886719] [ 85.99804946  86.59357283  86.68355939 ...,  83.30932645  83.2998104\n",
      "  83.35996253]\n",
      "298.43 [ 8029.65822103  7408.82869761  7106.92344804 ...,  6097.2750133\n",
      "  6372.44291117  6397.04619683] [ 3.194862  3.489418  3.639984 ...,  4.07367   3.896523  3.886719] [ 85.96203439  86.62835578  86.68393808 ...,  83.22985726  83.203332\n",
      "  83.31441543]\n",
      "298.43 [ 8024.86586266  7411.04162945  7101.00441394 ...,  6103.162726\n",
      "  6382.64677801  6392.89724345] [ 3.194862  3.489418  3.639984 ...,  4.07367   3.896523  3.886719] [ 85.91072948  86.65423068  86.61174296 ...,  83.31022653  83.33656124\n",
      "  83.26037993]\n",
      "298.43 [ 8026.86721921  7405.61400066  7101.76203437 ...,  6100.90635333\n",
      "  6375.53392413  6384.43876363] [ 3.194862  3.489418  3.639984 ...,  4.07367   3.896523  3.886719] [ 85.93215514  86.59076767  86.62098374 ...,  83.27942628  83.24369056\n",
      "  83.15021763]\n",
      "298.43 [ 8034.63405945  7412.29700001  7101.57077368 ...,  6102.58244026\n",
      "  6377.01859351  6382.01850003] [ 3.194862  3.489418  3.639984 ...,  4.07367   3.896523  3.886719] [ 86.01530356  86.6689092   86.61865091 ...,  83.30230543  83.2630755\n",
      "  83.11869639]\n",
      "298.43 [ 8020.263176    7411.94535268  7106.95386148 ...,  6107.49073588\n",
      "  6376.40265349  6392.49075209] [ 3.194862  3.489418  3.639984 ...,  4.07367   3.896523  3.886719] [ 85.86145512  86.66479754  86.68430903 ...,  83.36930532  83.25503333\n",
      "  83.25508583]\n",
      "298.43 [ 8034.88833101  7401.13250438  7093.71949066 ...,  6095.12786264\n",
      "  6362.90471206  6383.19872836] [ 3.194862  3.489418  3.639984 ...,  4.07367   3.896523  3.886719] [ 86.01802568  86.53836739  86.52288794 ...,  83.20054793  83.07879421\n",
      "  83.13406755]\n",
      "298.43 [ 8019.61284348  7401.96264898  7103.49813472 ...,  6102.20705284\n",
      "  6381.62593556  6389.86193933] [ 3.194862  3.489418  3.639984 ...,  4.07367   3.896523  3.886719] [ 85.85449294  86.54807393  86.64215915 ...,  83.29718127  83.32323237\n",
      "  83.22084846]\n",
      "298.43 [ 8023.09277261  7405.02017667  7109.60218391 ...,  6104.08928367\n",
      "  6373.09555692  6387.05386894] [ 3.194862  3.489418  3.639984 ...,  4.07367   3.896523  3.886719] [ 85.89174755  86.58382433  86.71661092 ...,  83.32287435  83.21185343\n",
      "  83.18427647]\n",
      "298.43 [ 8014.64340312  7397.66627994  7098.85329689 ...,  6106.50602508\n",
      "  6371.13086451  6382.89618521] [ 3.194862  3.489418  3.639984 ...,  4.07367   3.896523  3.886719] [ 85.80129227  86.49783827  86.58550554 ...,  83.35586368  83.18620095\n",
      "  83.13012726]\n"
     ]
    },
    {
     "ename": "KeyboardInterrupt",
     "evalue": "",
     "output_type": "error",
     "traceback": [
      "\u001b[0;31m---------------------------------------------------------------------------\u001b[0m",
      "\u001b[0;31mKeyboardInterrupt\u001b[0m                         Traceback (most recent call last)",
      "\u001b[0;32m<ipython-input-19-2c683101f69a>\u001b[0m in \u001b[0;36m<module>\u001b[0;34m()\u001b[0m\n\u001b[1;32m     26\u001b[0m             \u001b[0mP_noise\u001b[0m \u001b[0;34m=\u001b[0m \u001b[0mP\u001b[0m\u001b[0;34m(\u001b[0m\u001b[0mdB_noise\u001b[0m\u001b[0;34m)\u001b[0m\u001b[0;34m\u001b[0m\u001b[0m\n\u001b[1;32m     27\u001b[0m         \u001b[0;32melif\u001b[0m \u001b[0mfile\u001b[0m\u001b[0;34m.\u001b[0m\u001b[0mendswith\u001b[0m\u001b[0;34m(\u001b[0m\u001b[0;34m'antenna.dat'\u001b[0m\u001b[0;34m)\u001b[0m\u001b[0;34m:\u001b[0m\u001b[0;34m\u001b[0m\u001b[0m\n\u001b[0;32m---> 28\u001b[0;31m             \u001b[0mdB_antenna\u001b[0m \u001b[0;34m=\u001b[0m \u001b[0mnp\u001b[0m\u001b[0;34m.\u001b[0m\u001b[0mloadtxt\u001b[0m\u001b[0;34m(\u001b[0m\u001b[0mpath\u001b[0m\u001b[0;34m,\u001b[0m\u001b[0munpack\u001b[0m\u001b[0;34m=\u001b[0m\u001b[0mTrue\u001b[0m\u001b[0;34m)\u001b[0m\u001b[0;34m\u001b[0m\u001b[0m\n\u001b[0m\u001b[1;32m     29\u001b[0m             \u001b[0mdB_clean\u001b[0m \u001b[0;34m=\u001b[0m \u001b[0mdB_antenna\u001b[0m \u001b[0;34m-\u001b[0m \u001b[0mdB_noise\u001b[0m\u001b[0;34m\u001b[0m\u001b[0m\n\u001b[1;32m     30\u001b[0m             \u001b[0mP_clean\u001b[0m \u001b[0;34m=\u001b[0m \u001b[0mP\u001b[0m\u001b[0;34m(\u001b[0m\u001b[0mdB_clean\u001b[0m\u001b[0;34m)\u001b[0m\u001b[0;34m\u001b[0m\u001b[0m\n",
      "\u001b[0;32m/home/hiram/anaconda2/lib/python2.7/site-packages/numpy/lib/npyio.pyc\u001b[0m in \u001b[0;36mloadtxt\u001b[0;34m(fname, dtype, comments, delimiter, converters, skiprows, usecols, unpack, ndmin)\u001b[0m\n\u001b[1;32m   1011\u001b[0m         \u001b[0;31m# Parse each line, including the first\u001b[0m\u001b[0;34m\u001b[0m\u001b[0;34m\u001b[0m\u001b[0m\n\u001b[1;32m   1012\u001b[0m         \u001b[0;32mfor\u001b[0m \u001b[0mi\u001b[0m\u001b[0;34m,\u001b[0m \u001b[0mline\u001b[0m \u001b[0;32min\u001b[0m \u001b[0menumerate\u001b[0m\u001b[0;34m(\u001b[0m\u001b[0mitertools\u001b[0m\u001b[0;34m.\u001b[0m\u001b[0mchain\u001b[0m\u001b[0;34m(\u001b[0m\u001b[0;34m[\u001b[0m\u001b[0mfirst_line\u001b[0m\u001b[0;34m]\u001b[0m\u001b[0;34m,\u001b[0m \u001b[0mfh\u001b[0m\u001b[0;34m)\u001b[0m\u001b[0;34m)\u001b[0m\u001b[0;34m:\u001b[0m\u001b[0;34m\u001b[0m\u001b[0m\n\u001b[0;32m-> 1013\u001b[0;31m             \u001b[0mvals\u001b[0m \u001b[0;34m=\u001b[0m \u001b[0msplit_line\u001b[0m\u001b[0;34m(\u001b[0m\u001b[0mline\u001b[0m\u001b[0;34m)\u001b[0m\u001b[0;34m\u001b[0m\u001b[0m\n\u001b[0m\u001b[1;32m   1014\u001b[0m             \u001b[0;32mif\u001b[0m \u001b[0mlen\u001b[0m\u001b[0;34m(\u001b[0m\u001b[0mvals\u001b[0m\u001b[0;34m)\u001b[0m \u001b[0;34m==\u001b[0m \u001b[0;36m0\u001b[0m\u001b[0;34m:\u001b[0m\u001b[0;34m\u001b[0m\u001b[0m\n\u001b[1;32m   1015\u001b[0m                 \u001b[0;32mcontinue\u001b[0m\u001b[0;34m\u001b[0m\u001b[0m\n",
      "\u001b[0;32m/home/hiram/anaconda2/lib/python2.7/site-packages/numpy/lib/npyio.pyc\u001b[0m in \u001b[0;36msplit_line\u001b[0;34m(line)\u001b[0m\n\u001b[1;32m    958\u001b[0m         \u001b[0mline\u001b[0m \u001b[0;34m=\u001b[0m \u001b[0masbytes\u001b[0m\u001b[0;34m(\u001b[0m\u001b[0mline\u001b[0m\u001b[0;34m)\u001b[0m\u001b[0;34m\u001b[0m\u001b[0m\n\u001b[1;32m    959\u001b[0m         \u001b[0;32mif\u001b[0m \u001b[0mcomments\u001b[0m \u001b[0;32mis\u001b[0m \u001b[0;32mnot\u001b[0m \u001b[0mNone\u001b[0m\u001b[0;34m:\u001b[0m\u001b[0;34m\u001b[0m\u001b[0m\n\u001b[0;32m--> 960\u001b[0;31m             \u001b[0mline\u001b[0m \u001b[0;34m=\u001b[0m \u001b[0mregex_comments\u001b[0m\u001b[0;34m.\u001b[0m\u001b[0msplit\u001b[0m\u001b[0;34m(\u001b[0m\u001b[0masbytes\u001b[0m\u001b[0;34m(\u001b[0m\u001b[0mline\u001b[0m\u001b[0;34m)\u001b[0m\u001b[0;34m,\u001b[0m \u001b[0mmaxsplit\u001b[0m\u001b[0;34m=\u001b[0m\u001b[0;36m1\u001b[0m\u001b[0;34m)\u001b[0m\u001b[0;34m[\u001b[0m\u001b[0;36m0\u001b[0m\u001b[0;34m]\u001b[0m\u001b[0;34m\u001b[0m\u001b[0m\n\u001b[0m\u001b[1;32m    961\u001b[0m         \u001b[0mline\u001b[0m \u001b[0;34m=\u001b[0m \u001b[0mline\u001b[0m\u001b[0;34m.\u001b[0m\u001b[0mstrip\u001b[0m\u001b[0;34m(\u001b[0m\u001b[0;34mb'\\r\\n'\u001b[0m\u001b[0;34m)\u001b[0m\u001b[0;34m\u001b[0m\u001b[0m\n\u001b[1;32m    962\u001b[0m         \u001b[0;32mif\u001b[0m \u001b[0mline\u001b[0m\u001b[0;34m:\u001b[0m\u001b[0;34m\u001b[0m\u001b[0m\n",
      "\u001b[0;31mKeyboardInterrupt\u001b[0m: "
     ]
    }
   ],
   "source": [
    "folders = glob.glob('Data/*')\n",
    "folders.sort()\n",
    "i=-1\n",
    "for subdirs, dirs, files in os.walk('Data'):\n",
    "    dirs.sort()\n",
    "    files.sort()\n",
    "    K_jnc,measure = [],[]\n",
    "    K_date,measure_date=[],[]\n",
    "\n",
    "    for file in files:\n",
    "        path = os.path.join(subdirs,file)\n",
    "        date = file.split(\"_\")[0]\n",
    "        if  os.path.getsize(path)==0:\n",
    "            print 'EMPTY FILE:',path\n",
    "            continue\n",
    "        elif file.endswith('short.dat'):\n",
    "            dB_short = np.loadtxt(path,unpack=True)\n",
    "            P_short = P(dB_short)\n",
    "            #T_short = Res2Temp(dB_short,bwidth)\n",
    "        elif file.endswith('50ohm.dat'):\n",
    "            dB_50ohm = np.loadtxt(path,unpack=True)\n",
    "            P_50ohm = P(dB_50ohm)\n",
    "            #T_50ohm = Res2Temp(dB_50ohm,bwidth)\n",
    "        elif file.endswith('noise.dat'):\n",
    "            dB_noise = np.loadtxt(path,unpack=True)\n",
    "            P_noise = P(dB_noise)\n",
    "        elif file.endswith('antenna.dat'):\n",
    "            dB_antenna = np.loadtxt(path,unpack=True)\n",
    "            dB_clean = dB_antenna - dB_noise\n",
    "            P_clean = P(dB_clean)\n",
    "            #P_clean = P_antenna - P_noise\n",
    "            #T_antenna = Radio_source_trans(dB_clean, Freqs, bwidth)\n",
    "            Tamb = round(np.genfromtxt(path,comments='!',skip_header= 18,max_rows=1)[1]+273.15,2)\n",
    "            Kjnc = Tamb/(dB_50ohm-dB_short)\n",
    "            T_measure = Kjnc * (dB_clean/eta_nu - dB_short)\n",
    "            \n",
    "            print Tamb,T_measure[mask],(dB_50ohm-dB_short)[mask],(dB_clean/eta_nu - dB_short)[mask]\n",
    "            K_jnc.append(Kjnc),measure.append(T_measure)\n",
    "            K_date.append(date),measure_date.append(date)\n",
    "    if i>=0 and i<len(folders) and K_jnc and measure:\n",
    "        name = os.path.normpath(folders[i])\n",
    "        name = name.split(\"/\")[1]\n",
    "        K_jnc = np.transpose(K_jnc)\n",
    "        measure = np.transpose(measure)\n",
    "        Kjnc_table = pd.DataFrame(K_jnc[mask], index = Freqs[mask], columns = K_date)\n",
    "        Kjnc_table.to_hdf('Data_filter/K_jnc/'+name+'.hdf5','df')\n",
    "        measure_table = pd.DataFrame(measure[mask], index = Freqs[mask], columns = measure_date)\n",
    "        measure_table.to_hdf('Data_filter/Tmeas_jnc/'+name+'.hdf5','df')\n",
    "    i+=1\n",
    "    "
   ]
  },
  {
   "cell_type": "code",
   "execution_count": 5,
   "metadata": {},
   "outputs": [],
   "source": [
    "day14jnc = glob.glob('Data_filter/Tmeas_jnc/2013-06-14*')\n",
    "dfs = []\n",
    "for path in day14jnc:\n",
    "    dfs.append(pd.read_hdf(path))\n",
    "big_frame1 = pd.concat(dfs, axis = 1)\n",
    "big_frame1.to_hdf('calibration/Day14_jnc.hdf5','df')"
   ]
  },
  {
   "cell_type": "code",
   "execution_count": 6,
   "metadata": {},
   "outputs": [],
   "source": [
    "day15jnc = glob.glob('Data_filter/Tmeas_jnc/2013-06-15*')\n",
    "dfs = []\n",
    "for path in day15jnc:\n",
    "    dfs.append(pd.read_hdf(path))\n",
    "big_frame2 = pd.concat(dfs, axis = 1)\n",
    "big_frame2.to_hdf('calibration/Day15_jnc.hdf5','df')"
   ]
  },
  {
   "cell_type": "code",
   "execution_count": 7,
   "metadata": {},
   "outputs": [],
   "source": [
    "all_data = [big_frame1,big_frame2]\n",
    "day14_15 = pd.concat(all_data,axis=1)\n",
    "day14_15.to_hdf('calibration/Days14_15_jnc.hdf5','df')"
   ]
  },
  {
   "cell_type": "raw",
   "metadata": {},
   "source": []
  }
 ],
 "metadata": {
  "kernelspec": {
   "display_name": "Python 2",
   "language": "python",
   "name": "python2"
  },
  "language_info": {
   "codemirror_mode": {
    "name": "ipython",
    "version": 2
   },
   "file_extension": ".py",
   "mimetype": "text/x-python",
   "name": "python",
   "nbconvert_exporter": "python",
   "pygments_lexer": "ipython2",
   "version": "2.7.14"
  }
 },
 "nbformat": 4,
 "nbformat_minor": 2
}
