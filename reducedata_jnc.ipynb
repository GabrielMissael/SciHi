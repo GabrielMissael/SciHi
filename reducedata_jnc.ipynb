{
 "cells": [
  {
   "cell_type": "code",
   "execution_count": 1,
   "metadata": {},
   "outputs": [],
   "source": [
    "import pandas as pd\n",
    "import numpy as np\n",
    "import os\n",
    "import glob\n",
    "from power_to_temperature import *\n",
    "from test import *"
   ]
  },
  {
   "cell_type": "code",
   "execution_count": 2,
   "metadata": {},
   "outputs": [],
   "source": [
    "freqs,vals,bwidth = bandwidth(50.,90.)\n",
    "Freqs = np.linspace(1e-22,250,32769)\n",
    "eta_nu = eta(Freqs)\n",
    "mask = (Freqs>=50)&(Freqs<=91)\n",
    "bwidth=1."
   ]
  },
  {
   "cell_type": "code",
   "execution_count": 3,
   "metadata": {},
   "outputs": [
    {
     "name": "stderr",
     "output_type": "stream",
     "text": [
      "/home/hiram/anaconda2/lib/python2.7/site-packages/ipykernel_launcher.py:29: RuntimeWarning: divide by zero encountered in divide\n"
     ]
    },
    {
     "name": "stdout",
     "output_type": "stream",
     "text": [
      "EMPTY FILE: Data/2013-06-14-02/2013-06-14-02-02-29_Ch_2_antenna.dat\n",
      "EMPTY FILE: Data/2013-06-14-02/2013-06-14-02-02-39_Ch_2_antenna.dat\n",
      "EMPTY FILE: Data/2013-06-14-02/2013-06-14-02-02-50_Ch_2_antenna.dat\n",
      "EMPTY FILE: Data/2013-06-14-02/2013-06-14-02-15-33_Ch_2_antenna.dat\n",
      "EMPTY FILE: Data/2013-06-14-02/2013-06-14-02-15-44_Ch_2_antenna.dat\n",
      "EMPTY FILE: Data/2013-06-14-02/2013-06-14-02-15-55_Ch_2_antenna.dat\n",
      "EMPTY FILE: Data/2013-06-14-02/2013-06-14-02-29-28_Ch_2_antenna.dat\n",
      "EMPTY FILE: Data/2013-06-14-02/2013-06-14-02-29-39_Ch_2_antenna.dat\n",
      "EMPTY FILE: Data/2013-06-14-02/2013-06-14-02-29-50_Ch_2_antenna.dat\n",
      "EMPTY FILE: Data/2013-06-14-02/2013-06-14-02-45-18_Ch_2_antenna.dat\n",
      "EMPTY FILE: Data/2013-06-14-02/2013-06-14-02-45-29_Ch_2_antenna.dat\n",
      "EMPTY FILE: Data/2013-06-14-02/2013-06-14-02-45-40_Ch_2_antenna.dat\n",
      "EMPTY FILE: Data/2013-06-14-03/2013-06-14-03-04-54_Ch_2_antenna.dat\n",
      "EMPTY FILE: Data/2013-06-14-03/2013-06-14-03-05-05_Ch_2_antenna.dat\n",
      "EMPTY FILE: Data/2013-06-14-03/2013-06-14-03-05-16_Ch_2_antenna.dat\n",
      "EMPTY FILE: Data/2013-06-14-03/2013-06-14-03-31-56_Ch_2_antenna.dat\n",
      "EMPTY FILE: Data/2013-06-14-03/2013-06-14-03-32-07_Ch_2_antenna.dat\n",
      "EMPTY FILE: Data/2013-06-14-03/2013-06-14-03-32-18_Ch_2_antenna.dat\n",
      "EMPTY FILE: Data/2013-06-14-15/2013-06-14-15-11-02_Ch_2_antenna.dat\n",
      "EMPTY FILE: Data/2013-06-14-15/2013-06-14-15-11-13_Ch_2_antenna.dat\n",
      "EMPTY FILE: Data/2013-06-14-15/2013-06-14-15-11-24_Ch_2_antenna.dat\n",
      "EMPTY FILE: Data/2013-06-14-15/2013-06-14-15-24-43_Ch_2_antenna.dat\n",
      "EMPTY FILE: Data/2013-06-14-15/2013-06-14-15-24-54_Ch_2_antenna.dat\n",
      "EMPTY FILE: Data/2013-06-14-15/2013-06-14-15-25-05_Ch_2_antenna.dat\n",
      "EMPTY FILE: Data/2013-06-14-15/2013-06-14-15-38-24_Ch_2_antenna.dat\n",
      "EMPTY FILE: Data/2013-06-14-15/2013-06-14-15-38-36_Ch_2_antenna.dat\n",
      "EMPTY FILE: Data/2013-06-14-15/2013-06-14-15-38-47_Ch_2_antenna.dat\n",
      "EMPTY FILE: Data/2013-06-14-15/2013-06-14-15-53-28_Ch_2_antenna.dat\n",
      "EMPTY FILE: Data/2013-06-14-15/2013-06-14-15-53-39_Ch_2_antenna.dat\n",
      "EMPTY FILE: Data/2013-06-14-15/2013-06-14-15-53-51_Ch_2_antenna.dat\n",
      "EMPTY FILE: Data/2013-06-14-16/2013-06-14-16-10-14_Ch_2_antenna.dat\n",
      "EMPTY FILE: Data/2013-06-14-16/2013-06-14-16-10-25_Ch_2_antenna.dat\n",
      "EMPTY FILE: Data/2013-06-14-16/2013-06-14-16-10-36_Ch_2_antenna.dat\n",
      "EMPTY FILE: Data/2013-06-14-16/2013-06-14-16-28-37_Ch_2_antenna.dat\n",
      "EMPTY FILE: Data/2013-06-14-16/2013-06-14-16-28-48_Ch_2_antenna.dat\n",
      "EMPTY FILE: Data/2013-06-14-16/2013-06-14-16-28-59_Ch_2_antenna.dat\n",
      "EMPTY FILE: Data/2013-06-14-16/2013-06-14-16-41-22_Ch_2_noise.dat\n",
      "EMPTY FILE: Data/2013-06-14-16/2013-06-14-16-41-31_Ch_2_antenna.dat\n",
      "EMPTY FILE: Data/2013-06-14-16/2013-06-14-16-41-43_Ch_2_antenna.dat\n",
      "EMPTY FILE: Data/2013-06-14-20/2013-06-14-20-39-14_Ch_2_antenna.dat\n",
      "EMPTY FILE: Data/2013-06-14-20/2013-06-14-20-39-25_Ch_2_antenna.dat\n",
      "EMPTY FILE: Data/2013-06-14-20/2013-06-14-20-39-35_Ch_2_antenna.dat\n",
      "EMPTY FILE: Data/2013-06-14-20/2013-06-14-20-50-48_Ch_2_antenna.dat\n",
      "EMPTY FILE: Data/2013-06-14-20/2013-06-14-20-50-59_Ch_2_antenna.dat\n",
      "EMPTY FILE: Data/2013-06-14-20/2013-06-14-20-51-10_Ch_2_antenna.dat\n",
      "EMPTY FILE: Data/2013-06-14-21/2013-06-14-21-02-56_Ch_2_antenna.dat\n",
      "EMPTY FILE: Data/2013-06-14-21/2013-06-14-21-03-07_Ch_2_antenna.dat\n",
      "EMPTY FILE: Data/2013-06-14-21/2013-06-14-21-03-19_Ch_2_antenna.dat\n",
      "EMPTY FILE: Data/2013-06-14-21/2013-06-14-21-16-26_Ch_2_antenna.dat\n",
      "EMPTY FILE: Data/2013-06-14-21/2013-06-14-21-16-37_Ch_2_antenna.dat\n",
      "EMPTY FILE: Data/2013-06-14-21/2013-06-14-21-16-48_Ch_2_antenna.dat\n",
      "EMPTY FILE: Data/2013-06-14-21/2013-06-14-21-32-28_Ch_2_antenna.dat\n",
      "EMPTY FILE: Data/2013-06-14-21/2013-06-14-21-32-39_Ch_2_antenna.dat\n",
      "EMPTY FILE: Data/2013-06-14-21/2013-06-14-21-32-50_Ch_2_antenna.dat\n",
      "EMPTY FILE: Data/2013-06-14-21/2013-06-14-21-52-17_Ch_2_antenna.dat\n",
      "EMPTY FILE: Data/2013-06-14-21/2013-06-14-21-52-28_Ch_2_antenna.dat\n",
      "EMPTY FILE: Data/2013-06-14-21/2013-06-14-21-52-39_Ch_2_antenna.dat\n",
      "EMPTY FILE: Data/2013-06-14-22/2013-06-14-22-17-33_Ch_2_antenna.dat\n",
      "EMPTY FILE: Data/2013-06-14-22/2013-06-14-22-17-44_Ch_2_antenna.dat\n",
      "EMPTY FILE: Data/2013-06-14-22/2013-06-14-22-17-55_Ch_2_antenna.dat\n",
      "EMPTY FILE: Data/2013-06-14-22/2013-06-14-22-54-45_Ch_2_antenna.dat\n",
      "EMPTY FILE: Data/2013-06-14-22/2013-06-14-22-54-56_Ch_2_antenna.dat\n",
      "EMPTY FILE: Data/2013-06-14-22/2013-06-14-22-55-07_Ch_2_antenna.dat\n",
      "EMPTY FILE: Data/2013-06-14-23/2013-06-14-23-57-50_Ch_2_antenna.dat\n",
      "EMPTY FILE: Data/2013-06-14-23/2013-06-14-23-58-01_Ch_2_antenna.dat\n",
      "EMPTY FILE: Data/2013-06-14-23/2013-06-14-23-58-12_Ch_2_antenna.dat\n",
      "EMPTY FILE: Data/2013-06-15-04/2013-06-15-04-24-51_Ch_2_open.dat\n",
      "EMPTY FILE: Data/2013-06-15-04/2013-06-15-04-24-59_Ch_2_short.dat\n",
      "EMPTY FILE: Data/2013-06-15-04/2013-06-15-04-25-08_Ch_2_50ohm.dat\n",
      "EMPTY FILE: Data/2013-06-15-23/2013-06-15-23-14-46_Ch_2_antenna.dat\n",
      "EMPTY FILE: Data/2013-06-15-23/2013-06-15-23-14-57_Ch_2_antenna.dat\n",
      "EMPTY FILE: Data/2013-06-15-23/2013-06-15-23-15-08_Ch_2_antenna.dat\n",
      "EMPTY FILE: Data/2013-06-15-23/2013-06-15-23-28-13_Ch_2_antenna.dat\n",
      "EMPTY FILE: Data/2013-06-15-23/2013-06-15-23-28-24_Ch_2_antenna.dat\n",
      "EMPTY FILE: Data/2013-06-15-23/2013-06-15-23-28-35_Ch_2_antenna.dat\n",
      "EMPTY FILE: Data/2013-06-15-23/2013-06-15-23-43-20_Ch_2_antenna.dat\n",
      "EMPTY FILE: Data/2013-06-15-23/2013-06-15-23-43-31_Ch_2_antenna.dat\n",
      "EMPTY FILE: Data/2013-06-15-23/2013-06-15-23-43-42_Ch_2_antenna.dat\n",
      "EMPTY FILE: Data/2013-06-16-00/2013-06-16-00-01-05_Ch_2_antenna.dat\n",
      "EMPTY FILE: Data/2013-06-16-00/2013-06-16-00-01-16_Ch_2_antenna.dat\n",
      "EMPTY FILE: Data/2013-06-16-00/2013-06-16-00-01-27_Ch_2_antenna.dat\n",
      "EMPTY FILE: Data/2013-06-16-00/2013-06-16-00-19-10_Ch_2_antenna.dat\n",
      "EMPTY FILE: Data/2013-06-16-00/2013-06-16-00-19-21_Ch_2_antenna.dat\n",
      "EMPTY FILE: Data/2013-06-16-00/2013-06-16-00-19-32_Ch_2_antenna.dat\n"
     ]
    },
    {
     "ename": "IndexError",
     "evalue": "too many indices for array",
     "output_type": "error",
     "traceback": [
      "\u001b[0;31m---------------------------------------------------------------------------\u001b[0m",
      "\u001b[0;31mIndexError\u001b[0m                                Traceback (most recent call last)",
      "\u001b[0;32m<ipython-input-3-825839eec27a>\u001b[0m in \u001b[0;36m<module>\u001b[0;34m()\u001b[0m\n\u001b[1;32m     26\u001b[0m             \u001b[0mdB_clean\u001b[0m \u001b[0;34m=\u001b[0m \u001b[0mdB_antenna\u001b[0m \u001b[0;34m-\u001b[0m \u001b[0mdB_noise\u001b[0m \u001b[0;34m-\u001b[0m \u001b[0;36m93.0\u001b[0m\u001b[0;34m\u001b[0m\u001b[0m\n\u001b[1;32m     27\u001b[0m             \u001b[0mT_antenna\u001b[0m \u001b[0;34m=\u001b[0m \u001b[0mRadio_source_trans\u001b[0m\u001b[0;34m(\u001b[0m\u001b[0mdB_clean\u001b[0m\u001b[0;34m,\u001b[0m \u001b[0mFreqs\u001b[0m\u001b[0;34m,\u001b[0m \u001b[0mbwidth\u001b[0m\u001b[0;34m)\u001b[0m\u001b[0;34m\u001b[0m\u001b[0m\n\u001b[0;32m---> 28\u001b[0;31m             \u001b[0mTamb\u001b[0m \u001b[0;34m=\u001b[0m \u001b[0mround\u001b[0m\u001b[0;34m(\u001b[0m\u001b[0mnp\u001b[0m\u001b[0;34m.\u001b[0m\u001b[0mgenfromtxt\u001b[0m\u001b[0;34m(\u001b[0m\u001b[0mpath\u001b[0m\u001b[0;34m,\u001b[0m\u001b[0mcomments\u001b[0m\u001b[0;34m=\u001b[0m\u001b[0;34m'!'\u001b[0m\u001b[0;34m,\u001b[0m\u001b[0mskip_header\u001b[0m\u001b[0;34m=\u001b[0m \u001b[0;36m18\u001b[0m\u001b[0;34m,\u001b[0m\u001b[0mmax_rows\u001b[0m\u001b[0;34m=\u001b[0m\u001b[0;36m1\u001b[0m\u001b[0;34m)\u001b[0m\u001b[0;34m[\u001b[0m\u001b[0;36m1\u001b[0m\u001b[0;34m]\u001b[0m\u001b[0;34m+\u001b[0m\u001b[0;36m273.15\u001b[0m\u001b[0;34m,\u001b[0m\u001b[0;36m2\u001b[0m\u001b[0;34m)\u001b[0m\u001b[0;34m\u001b[0m\u001b[0m\n\u001b[0m\u001b[1;32m     29\u001b[0m             \u001b[0mKjnc\u001b[0m \u001b[0;34m=\u001b[0m \u001b[0mTamb\u001b[0m\u001b[0;34m/\u001b[0m\u001b[0;34m(\u001b[0m\u001b[0mT_50ohm\u001b[0m\u001b[0;34m-\u001b[0m\u001b[0mT_short\u001b[0m\u001b[0;34m)\u001b[0m\u001b[0;34m\u001b[0m\u001b[0m\n\u001b[1;32m     30\u001b[0m             \u001b[0mT_measure\u001b[0m \u001b[0;34m=\u001b[0m \u001b[0mKjnc\u001b[0m \u001b[0;34m*\u001b[0m \u001b[0;34m(\u001b[0m\u001b[0mT_antenna\u001b[0m\u001b[0;34m/\u001b[0m\u001b[0meta_nu\u001b[0m \u001b[0;34m-\u001b[0m \u001b[0mT_short\u001b[0m\u001b[0;34m)\u001b[0m\u001b[0;34m\u001b[0m\u001b[0m\n",
      "\u001b[0;31mIndexError\u001b[0m: too many indices for array"
     ]
    }
   ],
   "source": [
    "folders = glob.glob('Data/*')\n",
    "folders.sort()\n",
    "i=-1\n",
    "for subdirs, dirs, files in os.walk('Data'):\n",
    "    dirs.sort()\n",
    "    files.sort()\n",
    "    K_jnc,measure = [],[]\n",
    "    K_date,measure_date=[],[]\n",
    "\n",
    "    for file in files:\n",
    "        path = os.path.join(subdirs,file)\n",
    "        date = file.split(\"_\")[0]\n",
    "        if  os.path.getsize(path)==0:\n",
    "            print 'EMPTY FILE:',path\n",
    "            continue\n",
    "        elif file.endswith('short.dat'):\n",
    "            dB_short = np.loadtxt(path,unpack=True)\n",
    "            T_short = Res2Temp(dB_short,bwidth)\n",
    "        elif file.endswith('50ohm.dat'):\n",
    "            dB_50ohm = np.loadtxt(path,unpack=True)\n",
    "            T_50ohm = Res2Temp(dB_50ohm,bwidth)\n",
    "        elif file.endswith('noise.dat'):\n",
    "            dB_noise = np.loadtxt(path,unpack=True)\n",
    "        elif file.endswith('antenna.dat'):\n",
    "            dB_antenna = np.loadtxt(path,unpack=True)\n",
    "            dB_clean = dB_antenna - dB_noise - 93.0\n",
    "            T_antenna = Radio_source_trans(dB_clean, Freqs, bwidth)\n",
    "            Tamb = round(np.genfromtxt(path,comments='!',skip_header= 18,max_rows=1)[1]+273.15,2)\n",
    "            Kjnc = Tamb/(T_50ohm-T_short)\n",
    "            T_measure = Kjnc * (T_antenna/eta_nu - T_short)\n",
    "            K_jnc.append(Kjnc),measure.append(T_measure)\n",
    "            K_date.append(date),measure_date.append(date)\n",
    "    if i>=0 and i<len(folders) and K_jnc and measure:\n",
    "        name = os.path.normpath(folders[i])\n",
    "        name = name.split(\"/\")[1]\n",
    "        K_jnc = np.transpose(K_jnc)\n",
    "        measure = np.transpose(measure)\n",
    "        Kjnc_table = pd.DataFrame(K_jnc[mask], index = Freqs[mask], columns = K_date)\n",
    "        Kjnc_table.to_hdf('Data_filter/K_jnc/'+name+'.hdf5','df')\n",
    "        measure_table = pd.DataFrame(measure[mask], index = Freqs[mask], columns = measure_date)\n",
    "        measure_table.to_hdf('Data_filter/Tmeas_jnc/'+name+'.hdf5','df')\n",
    "    i+=1\n",
    "    "
   ]
  },
  {
   "cell_type": "code",
   "execution_count": 11,
   "metadata": {},
   "outputs": [],
   "source": [
    "day14jnc = glob.glob('Data_filter/Tmeas_jnc/2013-06-14*')\n",
    "day14jnc.sort()\n",
    "dfs = []\n",
    "for path in day14jnc:\n",
    "    dfs.append(pd.read_hdf(path))\n",
    "big_frame1 = pd.concat(dfs, axis = 1)\n",
    "big_frame1.to_hdf('calibration/Day14_jnc.hdf5','df')"
   ]
  },
  {
   "cell_type": "code",
   "execution_count": 12,
   "metadata": {},
   "outputs": [],
   "source": [
    "day15jnc = glob.glob('Data_filter/Tmeas_jnc/2013-06-15*')\n",
    "day15jnc.sort()\n",
    "dfs = []\n",
    "for path in day15jnc:\n",
    "    dfs.append(pd.read_hdf(path))\n",
    "big_frame2 = pd.concat(dfs, axis = 1)\n",
    "big_frame2.to_hdf('calibration/Day15_jnc.hdf5','df')"
   ]
  },
  {
   "cell_type": "code",
   "execution_count": 13,
   "metadata": {},
   "outputs": [],
   "source": [
    "all_data = [big_frame1,big_frame2]\n",
    "day14_15 = pd.concat(all_data,axis=1)\n",
    "day14_15.to_hdf('calibration/Days14_15_jnc.hdf5','df')"
   ]
  },
  {
   "cell_type": "code",
   "execution_count": 4,
   "metadata": {},
   "outputs": [],
   "source": [
    "Kday14 = glob.glob('Data_filter/K_jnc/2013-06-14*')\n",
    "Kday14.sort()\n",
    "dfs = []\n",
    "for path in Kday14:\n",
    "    dfs.append(pd.read_hdf(path))\n",
    "big_frame1 = pd.concat(dfs, axis = 1)\n",
    "big_frame1.to_hdf('calibration/Kjnc_Day14.hdf5','df')"
   ]
  },
  {
   "cell_type": "code",
   "execution_count": 6,
   "metadata": {},
   "outputs": [],
   "source": [
    "Kday15 = glob.glob('Data_filter/K_jnc/2013-06-15*')\n",
    "Kday15.sort()\n",
    "dfs = []\n",
    "for path in Kday15:\n",
    "    dfs.append(pd.read_hdf(path))\n",
    "big_frame2 = pd.concat(dfs, axis = 1)\n",
    "big_frame2.to_hdf('calibration/Kjnc_Day15.hdf5','df')"
   ]
  },
  {
   "cell_type": "code",
   "execution_count": 7,
   "metadata": {},
   "outputs": [],
   "source": [
    "all_K = [big_frame1,big_frame2]\n",
    "day14_15 = pd.concat(all_K,axis=1)\n",
    "day14_15.to_hdf('calibration/Kjnc_Days14_15.hdf5','df')"
   ]
  }
 ],
 "metadata": {
  "kernelspec": {
   "display_name": "Python 2",
   "language": "python",
   "name": "python2"
  },
  "language_info": {
   "codemirror_mode": {
    "name": "ipython",
    "version": 2
   },
   "file_extension": ".py",
   "mimetype": "text/x-python",
   "name": "python",
   "nbconvert_exporter": "python",
   "pygments_lexer": "ipython2",
   "version": "2.7.14"
  }
 },
 "nbformat": 4,
 "nbformat_minor": 2
}
