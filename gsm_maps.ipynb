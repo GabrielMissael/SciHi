{
 "cells": [
  {
   "cell_type": "code",
   "execution_count": 1,
   "metadata": {},
   "outputs": [],
   "source": [
    "from pygsm import GlobalSkyModel\n",
    "import numpy as np\n",
    "import pandas as pd"
   ]
  },
  {
   "cell_type": "markdown",
   "metadata": {},
   "source": [
    "This notebook is used to generate the GSM maps in HDF5 format for a given frequency.\n",
    "\n",
    "There should be a gsm_maps folder in the same directory of this notebook, else create it using 'mkdir gsm_maps' in a terminal within this directory, or '! mkdir gsm_maps' in a cell in this notebook."
   ]
  },
  {
   "cell_type": "code",
   "execution_count": 5,
   "metadata": {},
   "outputs": [],
   "source": [
    "Freqs = np.arange(50,91) #Frequency of interest 50-90 MHz."
   ]
  },
  {
   "cell_type": "code",
   "execution_count": 8,
   "metadata": {},
   "outputs": [],
   "source": [
    "for f in Freqs:\n",
    "    gsm = GlobalSkyModel()\n",
    "    gsm_map = gsm.generate(f)\n",
    "    DATA = pd.DataFrame(gsm_map)\n",
    "    DATA.to_hdf('gsm_maps/gsm_%dMHz.hdf5'%f,'df')"
   ]
  },
  {
   "cell_type": "code",
   "execution_count": null,
   "metadata": {},
   "outputs": [],
   "source": []
  }
 ],
 "metadata": {
  "kernelspec": {
   "display_name": "Python 2",
   "language": "python",
   "name": "python2"
  },
  "language_info": {
   "codemirror_mode": {
    "name": "ipython",
    "version": 2
   },
   "file_extension": ".py",
   "mimetype": "text/x-python",
   "name": "python",
   "nbconvert_exporter": "python",
   "pygments_lexer": "ipython2",
   "version": "2.7.14"
  }
 },
 "nbformat": 4,
 "nbformat_minor": 2
}
