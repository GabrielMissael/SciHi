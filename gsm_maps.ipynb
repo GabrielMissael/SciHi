{
 "cells": [
  {
   "cell_type": "code",
   "execution_count": 6,
   "metadata": {},
   "outputs": [],
   "source": [
    "from pygsm import GlobalSkyModel\n",
    "import numpy as np\n",
    "import pandas as pd\n",
    "# This program generates the GSM maps for the frequencies given  and saves them in hdf5 file"
   ]
  },
  {
   "cell_type": "code",
   "execution_count": 5,
   "metadata": {},
   "outputs": [],
   "source": [
    "Freqs = np.arange(50,91)"
   ]
  },
  {
   "cell_type": "code",
   "execution_count": 8,
   "metadata": {},
   "outputs": [],
   "source": [
    "for f in Freqs:\n",
    "    gsm = GlobalSkyModel()\n",
    "    gsm_map = gsm.generate(f)\n",
    "    DATA = pd.DataFrame(gsm_map)\n",
    "    DATA.to_hdf('gsm_maps/gsm_%dMHz.hdf5'%f,'df')"
   ]
  },
  {
   "cell_type": "code",
   "execution_count": null,
   "metadata": {},
   "outputs": [],
   "source": []
  }
 ],
 "metadata": {
  "kernelspec": {
   "display_name": "Python 2",
   "language": "python",
   "name": "python2"
  },
  "language_info": {
   "codemirror_mode": {
    "name": "ipython",
    "version": 2
   },
   "file_extension": ".py",
   "mimetype": "text/x-python",
   "name": "python",
   "nbconvert_exporter": "python",
   "pygments_lexer": "ipython2",
   "version": "2.7.14"
  }
 },
 "nbformat": 4,
 "nbformat_minor": 2
}
