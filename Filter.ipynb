{
 "cells": [
  {
   "cell_type": "code",
   "execution_count": 1,
   "metadata": {},
   "outputs": [],
   "source": [
    "import numpy as np\n",
    "from filter import *"
   ]
  },
  {
   "cell_type": "markdown",
   "metadata": {},
   "source": [
    "Notebook created to generate the calibration data for later usage, just add the PATH of the data, it should be in the same folder as this notebook, I haven't test if it fails if the PATH folder is outside the directory.\n",
    "\n",
    "Change the output folder if needed.\n",
    "\n",
    "For this notebook the Filter function in the filter.py file is used."
   ]
  },
  {
   "cell_type": "code",
   "execution_count": 2,
   "metadata": {},
   "outputs": [
    {
     "name": "stderr",
     "output_type": "stream",
     "text": [
      "filter.py:93: RuntimeWarning: divide by zero encountered in divide\n",
      "  Kjnc = Tamb/(T_50ohm-T_short) # Johnson-noise calibration coefficient\n"
     ]
    },
    {
     "name": "stdout",
     "output_type": "stream",
     "text": [
      "EMPTY FILE: Data/2013-06-14-02/2013-06-14-02-02-29_Ch_2_antenna.dat\n",
      "EMPTY FILE: Data/2013-06-14-02/2013-06-14-02-02-39_Ch_2_antenna.dat\n",
      "EMPTY FILE: Data/2013-06-14-02/2013-06-14-02-02-50_Ch_2_antenna.dat\n",
      "EMPTY FILE: Data/2013-06-14-02/2013-06-14-02-15-33_Ch_2_antenna.dat\n",
      "EMPTY FILE: Data/2013-06-14-02/2013-06-14-02-15-44_Ch_2_antenna.dat\n",
      "EMPTY FILE: Data/2013-06-14-02/2013-06-14-02-15-55_Ch_2_antenna.dat\n",
      "EMPTY FILE: Data/2013-06-14-02/2013-06-14-02-29-28_Ch_2_antenna.dat\n",
      "EMPTY FILE: Data/2013-06-14-02/2013-06-14-02-29-39_Ch_2_antenna.dat\n",
      "EMPTY FILE: Data/2013-06-14-02/2013-06-14-02-29-50_Ch_2_antenna.dat\n",
      "EMPTY FILE: Data/2013-06-14-02/2013-06-14-02-45-18_Ch_2_antenna.dat\n",
      "EMPTY FILE: Data/2013-06-14-02/2013-06-14-02-45-29_Ch_2_antenna.dat\n",
      "EMPTY FILE: Data/2013-06-14-02/2013-06-14-02-45-40_Ch_2_antenna.dat\n",
      "EMPTY FILE: Data/2013-06-14-03/2013-06-14-03-04-54_Ch_2_antenna.dat\n",
      "EMPTY FILE: Data/2013-06-14-03/2013-06-14-03-05-05_Ch_2_antenna.dat\n",
      "EMPTY FILE: Data/2013-06-14-03/2013-06-14-03-05-16_Ch_2_antenna.dat\n",
      "EMPTY FILE: Data/2013-06-14-03/2013-06-14-03-31-56_Ch_2_antenna.dat\n",
      "EMPTY FILE: Data/2013-06-14-03/2013-06-14-03-32-07_Ch_2_antenna.dat\n",
      "EMPTY FILE: Data/2013-06-14-03/2013-06-14-03-32-18_Ch_2_antenna.dat\n",
      "EMPTY FILE: Data/2013-06-14-15/2013-06-14-15-11-02_Ch_2_antenna.dat\n",
      "EMPTY FILE: Data/2013-06-14-15/2013-06-14-15-11-13_Ch_2_antenna.dat\n",
      "EMPTY FILE: Data/2013-06-14-15/2013-06-14-15-11-24_Ch_2_antenna.dat\n",
      "EMPTY FILE: Data/2013-06-14-15/2013-06-14-15-24-43_Ch_2_antenna.dat\n",
      "EMPTY FILE: Data/2013-06-14-15/2013-06-14-15-24-54_Ch_2_antenna.dat\n",
      "EMPTY FILE: Data/2013-06-14-15/2013-06-14-15-25-05_Ch_2_antenna.dat\n",
      "EMPTY FILE: Data/2013-06-14-15/2013-06-14-15-38-24_Ch_2_antenna.dat\n",
      "EMPTY FILE: Data/2013-06-14-15/2013-06-14-15-38-36_Ch_2_antenna.dat\n",
      "EMPTY FILE: Data/2013-06-14-15/2013-06-14-15-38-47_Ch_2_antenna.dat\n",
      "EMPTY FILE: Data/2013-06-14-15/2013-06-14-15-53-28_Ch_2_antenna.dat\n",
      "EMPTY FILE: Data/2013-06-14-15/2013-06-14-15-53-39_Ch_2_antenna.dat\n",
      "EMPTY FILE: Data/2013-06-14-15/2013-06-14-15-53-51_Ch_2_antenna.dat\n",
      "EMPTY FILE: Data/2013-06-14-16/2013-06-14-16-10-14_Ch_2_antenna.dat\n",
      "EMPTY FILE: Data/2013-06-14-16/2013-06-14-16-10-25_Ch_2_antenna.dat\n",
      "EMPTY FILE: Data/2013-06-14-16/2013-06-14-16-10-36_Ch_2_antenna.dat\n",
      "EMPTY FILE: Data/2013-06-14-16/2013-06-14-16-28-37_Ch_2_antenna.dat\n",
      "EMPTY FILE: Data/2013-06-14-16/2013-06-14-16-28-48_Ch_2_antenna.dat\n",
      "EMPTY FILE: Data/2013-06-14-16/2013-06-14-16-28-59_Ch_2_antenna.dat\n",
      "EMPTY FILE: Data/2013-06-14-16/2013-06-14-16-41-22_Ch_2_noise.dat\n",
      "EMPTY FILE: Data/2013-06-14-16/2013-06-14-16-41-31_Ch_2_antenna.dat\n",
      "EMPTY FILE: Data/2013-06-14-16/2013-06-14-16-41-43_Ch_2_antenna.dat\n",
      "EMPTY FILE: Data/2013-06-14-20/2013-06-14-20-39-14_Ch_2_antenna.dat\n",
      "EMPTY FILE: Data/2013-06-14-20/2013-06-14-20-39-25_Ch_2_antenna.dat\n",
      "EMPTY FILE: Data/2013-06-14-20/2013-06-14-20-39-35_Ch_2_antenna.dat\n",
      "EMPTY FILE: Data/2013-06-14-20/2013-06-14-20-50-48_Ch_2_antenna.dat\n",
      "EMPTY FILE: Data/2013-06-14-20/2013-06-14-20-50-59_Ch_2_antenna.dat\n",
      "EMPTY FILE: Data/2013-06-14-20/2013-06-14-20-51-10_Ch_2_antenna.dat\n",
      "EMPTY FILE: Data/2013-06-14-21/2013-06-14-21-02-56_Ch_2_antenna.dat\n",
      "EMPTY FILE: Data/2013-06-14-21/2013-06-14-21-03-07_Ch_2_antenna.dat\n",
      "EMPTY FILE: Data/2013-06-14-21/2013-06-14-21-03-19_Ch_2_antenna.dat\n",
      "EMPTY FILE: Data/2013-06-14-21/2013-06-14-21-16-26_Ch_2_antenna.dat\n",
      "EMPTY FILE: Data/2013-06-14-21/2013-06-14-21-16-37_Ch_2_antenna.dat\n",
      "EMPTY FILE: Data/2013-06-14-21/2013-06-14-21-16-48_Ch_2_antenna.dat\n",
      "EMPTY FILE: Data/2013-06-14-21/2013-06-14-21-32-28_Ch_2_antenna.dat\n",
      "EMPTY FILE: Data/2013-06-14-21/2013-06-14-21-32-39_Ch_2_antenna.dat\n",
      "EMPTY FILE: Data/2013-06-14-21/2013-06-14-21-32-50_Ch_2_antenna.dat\n",
      "EMPTY FILE: Data/2013-06-14-21/2013-06-14-21-52-17_Ch_2_antenna.dat\n",
      "EMPTY FILE: Data/2013-06-14-21/2013-06-14-21-52-28_Ch_2_antenna.dat\n",
      "EMPTY FILE: Data/2013-06-14-21/2013-06-14-21-52-39_Ch_2_antenna.dat\n",
      "EMPTY FILE: Data/2013-06-14-22/2013-06-14-22-17-33_Ch_2_antenna.dat\n",
      "EMPTY FILE: Data/2013-06-14-22/2013-06-14-22-17-44_Ch_2_antenna.dat\n",
      "EMPTY FILE: Data/2013-06-14-22/2013-06-14-22-17-55_Ch_2_antenna.dat\n",
      "EMPTY FILE: Data/2013-06-14-22/2013-06-14-22-54-45_Ch_2_antenna.dat\n",
      "EMPTY FILE: Data/2013-06-14-22/2013-06-14-22-54-56_Ch_2_antenna.dat\n",
      "EMPTY FILE: Data/2013-06-14-22/2013-06-14-22-55-07_Ch_2_antenna.dat\n",
      "EMPTY FILE: Data/2013-06-14-23/2013-06-14-23-57-50_Ch_2_antenna.dat\n",
      "EMPTY FILE: Data/2013-06-14-23/2013-06-14-23-58-01_Ch_2_antenna.dat\n",
      "EMPTY FILE: Data/2013-06-14-23/2013-06-14-23-58-12_Ch_2_antenna.dat\n",
      "EMPTY FILE: Data/2013-06-15-04/2013-06-15-04-24-51_Ch_2_open.dat\n",
      "EMPTY FILE: Data/2013-06-15-04/2013-06-15-04-24-59_Ch_2_short.dat\n",
      "EMPTY FILE: Data/2013-06-15-04/2013-06-15-04-25-08_Ch_2_50ohm.dat\n",
      "EMPTY FILE: Data/2013-06-15-23/2013-06-15-23-14-46_Ch_2_antenna.dat\n",
      "EMPTY FILE: Data/2013-06-15-23/2013-06-15-23-14-57_Ch_2_antenna.dat\n",
      "EMPTY FILE: Data/2013-06-15-23/2013-06-15-23-15-08_Ch_2_antenna.dat\n",
      "EMPTY FILE: Data/2013-06-15-23/2013-06-15-23-28-13_Ch_2_antenna.dat\n",
      "EMPTY FILE: Data/2013-06-15-23/2013-06-15-23-28-24_Ch_2_antenna.dat\n",
      "EMPTY FILE: Data/2013-06-15-23/2013-06-15-23-28-35_Ch_2_antenna.dat\n",
      "EMPTY FILE: Data/2013-06-15-23/2013-06-15-23-43-20_Ch_2_antenna.dat\n",
      "EMPTY FILE: Data/2013-06-15-23/2013-06-15-23-43-31_Ch_2_antenna.dat\n",
      "EMPTY FILE: Data/2013-06-15-23/2013-06-15-23-43-42_Ch_2_antenna.dat\n",
      "EMPTY FILE: Data/2013-06-16-00/2013-06-16-00-01-05_Ch_2_antenna.dat\n",
      "EMPTY FILE: Data/2013-06-16-00/2013-06-16-00-01-16_Ch_2_antenna.dat\n",
      "EMPTY FILE: Data/2013-06-16-00/2013-06-16-00-01-27_Ch_2_antenna.dat\n",
      "EMPTY FILE: Data/2013-06-16-00/2013-06-16-00-19-10_Ch_2_antenna.dat\n",
      "EMPTY FILE: Data/2013-06-16-00/2013-06-16-00-19-21_Ch_2_antenna.dat\n",
      "EMPTY FILE: Data/2013-06-16-00/2013-06-16-00-19-32_Ch_2_antenna.dat\n"
     ]
    },
    {
     "ename": "IndexError",
     "evalue": "too many indices for array",
     "output_type": "error",
     "traceback": [
      "\u001b[0;31m---------------------------------------------------------------------------\u001b[0m",
      "\u001b[0;31mIndexError\u001b[0m                                Traceback (most recent call last)",
      "\u001b[0;32m<ipython-input-2-55faf254b178>\u001b[0m in \u001b[0;36m<module>\u001b[0;34m()\u001b[0m\n\u001b[0;32m----> 1\u001b[0;31m \u001b[0mFilter\u001b[0m\u001b[0;34m(\u001b[0m\u001b[0mPATH\u001b[0m\u001b[0;34m=\u001b[0m\u001b[0;34m'Data'\u001b[0m\u001b[0;34m,\u001b[0m\u001b[0mOutput_folder\u001b[0m\u001b[0;34m=\u001b[0m\u001b[0;34m'Data_filter'\u001b[0m\u001b[0;34m)\u001b[0m\u001b[0;34m\u001b[0m\u001b[0m\n\u001b[0m",
      "\u001b[0;32m/home/hiram/Documentos/Tesis/Codes/filter.py\u001b[0m in \u001b[0;36mFilter\u001b[0;34m(PATH, Output_folder, outcome)\u001b[0m\n\u001b[1;32m     90\u001b[0m                 \u001b[0mT_antenna\u001b[0m \u001b[0;34m=\u001b[0m \u001b[0mRadio_source_trans\u001b[0m\u001b[0;34m(\u001b[0m\u001b[0mdB_clean\u001b[0m\u001b[0;34m,\u001b[0m \u001b[0mFreqs\u001b[0m\u001b[0;34m,\u001b[0m \u001b[0mbwidth\u001b[0m\u001b[0;34m)\u001b[0m\u001b[0;34m\u001b[0m\u001b[0m\n\u001b[1;32m     91\u001b[0m                 \u001b[0mT_measure\u001b[0m \u001b[0;34m=\u001b[0m \u001b[0mT_antenna\u001b[0m\u001b[0;34m/\u001b[0m\u001b[0meta_nu\u001b[0m \u001b[0;34m-\u001b[0m \u001b[0mT_short\u001b[0m \u001b[0;31m# Uncalibrated measure\u001b[0m\u001b[0;34m\u001b[0m\u001b[0m\n\u001b[0;32m---> 92\u001b[0;31m                 \u001b[0mTamb\u001b[0m \u001b[0;34m=\u001b[0m \u001b[0mround\u001b[0m\u001b[0;34m(\u001b[0m\u001b[0mnp\u001b[0m\u001b[0;34m.\u001b[0m\u001b[0mgenfromtxt\u001b[0m\u001b[0;34m(\u001b[0m\u001b[0mpath\u001b[0m\u001b[0;34m,\u001b[0m\u001b[0mcomments\u001b[0m\u001b[0;34m=\u001b[0m\u001b[0;34m'!'\u001b[0m\u001b[0;34m,\u001b[0m\u001b[0mskip_header\u001b[0m\u001b[0;34m=\u001b[0m \u001b[0;36m18\u001b[0m\u001b[0;34m,\u001b[0m\u001b[0mmax_rows\u001b[0m\u001b[0;34m=\u001b[0m\u001b[0;36m1\u001b[0m\u001b[0;34m)\u001b[0m\u001b[0;34m[\u001b[0m\u001b[0;36m1\u001b[0m\u001b[0;34m]\u001b[0m\u001b[0;34m+\u001b[0m\u001b[0;36m273.15\u001b[0m\u001b[0;34m,\u001b[0m\u001b[0;36m2\u001b[0m\u001b[0;34m)\u001b[0m\u001b[0;34m\u001b[0m\u001b[0m\n\u001b[0m\u001b[1;32m     93\u001b[0m                 \u001b[0mKjnc\u001b[0m \u001b[0;34m=\u001b[0m \u001b[0mTamb\u001b[0m\u001b[0;34m/\u001b[0m\u001b[0;34m(\u001b[0m\u001b[0mT_50ohm\u001b[0m\u001b[0;34m-\u001b[0m\u001b[0mT_short\u001b[0m\u001b[0;34m)\u001b[0m \u001b[0;31m# Johnson-noise calibration coefficient\u001b[0m\u001b[0;34m\u001b[0m\u001b[0m\n\u001b[1;32m     94\u001b[0m                 \u001b[0mantenna\u001b[0m\u001b[0;34m.\u001b[0m\u001b[0mappend\u001b[0m\u001b[0;34m(\u001b[0m\u001b[0mT_antenna\u001b[0m\u001b[0;34m)\u001b[0m\u001b[0;34m,\u001b[0m\u001b[0mmeasure\u001b[0m\u001b[0;34m.\u001b[0m\u001b[0mappend\u001b[0m\u001b[0;34m(\u001b[0m\u001b[0mT_measure\u001b[0m\u001b[0;34m)\u001b[0m\u001b[0;34m,\u001b[0m\u001b[0mK_jnc\u001b[0m\u001b[0;34m.\u001b[0m\u001b[0mappend\u001b[0m\u001b[0;34m(\u001b[0m\u001b[0mKjnc\u001b[0m\u001b[0;34m)\u001b[0m\u001b[0;34m\u001b[0m\u001b[0m\n",
      "\u001b[0;31mIndexError\u001b[0m: too many indices for array"
     ]
    }
   ],
   "source": [
    "Filter(PATH='Data',Output_folder='Data_filter')"
   ]
  },
  {
   "cell_type": "markdown",
   "metadata": {},
   "source": [
    "In this case we've got an error because some of the last files of the data given by SCI-HI doesn't have the ambient temperature in its header, therefore no data can be read for the Tamb variable."
   ]
  },
  {
   "cell_type": "markdown",
   "metadata": {},
   "source": [
    "# Selection the days 14 and 15 with the possible 'best' data."
   ]
  },
  {
   "cell_type": "markdown",
   "metadata": {},
   "source": [
    "These next two cells are used to generate a table of every day of observation separated."
   ]
  },
  {
   "cell_type": "code",
   "execution_count": 3,
   "metadata": {},
   "outputs": [],
   "source": [
    "day14 = glob.glob('Data_filter/Tmeas/2013-06-14*')\n",
    "day14.sort()\n",
    "dfs = []\n",
    "for path in day14:\n",
    "    dfs.append(pd.read_hdf(path))\n",
    "big_frame1 = pd.concat(dfs, axis = 1)\n",
    "big_frame1.to_hdf('calibration/Day14.hdf5','df')"
   ]
  },
  {
   "cell_type": "code",
   "execution_count": 4,
   "metadata": {},
   "outputs": [],
   "source": [
    "day15 = glob.glob('Data_filter/Tmeas/2013-06-15*')\n",
    "day15.sort()\n",
    "dfs = []\n",
    "for path in day15:\n",
    "    dfs.append(pd.read_hdf(path))\n",
    "big_frame2 = pd.concat(dfs, axis = 1)\n",
    "big_frame2.to_hdf('calibration/Day15.hdf5','df')"
   ]
  },
  {
   "cell_type": "markdown",
   "metadata": {},
   "source": [
    "The next cell is used to generate a HDF5 table with the two days of observation."
   ]
  },
  {
   "cell_type": "code",
   "execution_count": 5,
   "metadata": {},
   "outputs": [],
   "source": [
    "all_data = [big_frame1,big_frame2]\n",
    "day14_15 = pd.concat(all_data,axis=1)\n",
    "day14_15.to_hdf('calibration/Days14_15.hdf5','df')"
   ]
  },
  {
   "cell_type": "markdown",
   "metadata": {},
   "source": [
    "# Using a 93 dBm outcome(Oleg)"
   ]
  },
  {
   "cell_type": "markdown",
   "metadata": {},
   "source": [
    "The only difference between the next data and the done above is that we are substracting a 93 dBm signal from the data, this is in order to follow the steps done by Oleg in his thesis, we still don't know why it was done, any question Oleg knows :P "
   ]
  },
  {
   "cell_type": "code",
   "execution_count": 2,
   "metadata": {},
   "outputs": [
    {
     "name": "stderr",
     "output_type": "stream",
     "text": [
      "filter.py:93: RuntimeWarning: divide by zero encountered in divide\n",
      "  Kjnc = Tamb/(T_50ohm-T_short) # Johnson-noise calibration coefficient\n"
     ]
    },
    {
     "name": "stdout",
     "output_type": "stream",
     "text": [
      "EMPTY FILE: Data/2013-06-14-02/2013-06-14-02-02-29_Ch_2_antenna.dat\n",
      "EMPTY FILE: Data/2013-06-14-02/2013-06-14-02-02-39_Ch_2_antenna.dat\n",
      "EMPTY FILE: Data/2013-06-14-02/2013-06-14-02-02-50_Ch_2_antenna.dat\n",
      "EMPTY FILE: Data/2013-06-14-02/2013-06-14-02-15-33_Ch_2_antenna.dat\n",
      "EMPTY FILE: Data/2013-06-14-02/2013-06-14-02-15-44_Ch_2_antenna.dat\n",
      "EMPTY FILE: Data/2013-06-14-02/2013-06-14-02-15-55_Ch_2_antenna.dat\n",
      "EMPTY FILE: Data/2013-06-14-02/2013-06-14-02-29-28_Ch_2_antenna.dat\n",
      "EMPTY FILE: Data/2013-06-14-02/2013-06-14-02-29-39_Ch_2_antenna.dat\n",
      "EMPTY FILE: Data/2013-06-14-02/2013-06-14-02-29-50_Ch_2_antenna.dat\n",
      "EMPTY FILE: Data/2013-06-14-02/2013-06-14-02-45-18_Ch_2_antenna.dat\n",
      "EMPTY FILE: Data/2013-06-14-02/2013-06-14-02-45-29_Ch_2_antenna.dat\n",
      "EMPTY FILE: Data/2013-06-14-02/2013-06-14-02-45-40_Ch_2_antenna.dat\n",
      "EMPTY FILE: Data/2013-06-14-03/2013-06-14-03-04-54_Ch_2_antenna.dat\n",
      "EMPTY FILE: Data/2013-06-14-03/2013-06-14-03-05-05_Ch_2_antenna.dat\n",
      "EMPTY FILE: Data/2013-06-14-03/2013-06-14-03-05-16_Ch_2_antenna.dat\n",
      "EMPTY FILE: Data/2013-06-14-03/2013-06-14-03-31-56_Ch_2_antenna.dat\n",
      "EMPTY FILE: Data/2013-06-14-03/2013-06-14-03-32-07_Ch_2_antenna.dat\n",
      "EMPTY FILE: Data/2013-06-14-03/2013-06-14-03-32-18_Ch_2_antenna.dat\n",
      "EMPTY FILE: Data/2013-06-14-15/2013-06-14-15-11-02_Ch_2_antenna.dat\n",
      "EMPTY FILE: Data/2013-06-14-15/2013-06-14-15-11-13_Ch_2_antenna.dat\n",
      "EMPTY FILE: Data/2013-06-14-15/2013-06-14-15-11-24_Ch_2_antenna.dat\n",
      "EMPTY FILE: Data/2013-06-14-15/2013-06-14-15-24-43_Ch_2_antenna.dat\n",
      "EMPTY FILE: Data/2013-06-14-15/2013-06-14-15-24-54_Ch_2_antenna.dat\n",
      "EMPTY FILE: Data/2013-06-14-15/2013-06-14-15-25-05_Ch_2_antenna.dat\n",
      "EMPTY FILE: Data/2013-06-14-15/2013-06-14-15-38-24_Ch_2_antenna.dat\n",
      "EMPTY FILE: Data/2013-06-14-15/2013-06-14-15-38-36_Ch_2_antenna.dat\n",
      "EMPTY FILE: Data/2013-06-14-15/2013-06-14-15-38-47_Ch_2_antenna.dat\n",
      "EMPTY FILE: Data/2013-06-14-15/2013-06-14-15-53-28_Ch_2_antenna.dat\n",
      "EMPTY FILE: Data/2013-06-14-15/2013-06-14-15-53-39_Ch_2_antenna.dat\n",
      "EMPTY FILE: Data/2013-06-14-15/2013-06-14-15-53-51_Ch_2_antenna.dat\n",
      "EMPTY FILE: Data/2013-06-14-16/2013-06-14-16-10-14_Ch_2_antenna.dat\n",
      "EMPTY FILE: Data/2013-06-14-16/2013-06-14-16-10-25_Ch_2_antenna.dat\n",
      "EMPTY FILE: Data/2013-06-14-16/2013-06-14-16-10-36_Ch_2_antenna.dat\n",
      "EMPTY FILE: Data/2013-06-14-16/2013-06-14-16-28-37_Ch_2_antenna.dat\n",
      "EMPTY FILE: Data/2013-06-14-16/2013-06-14-16-28-48_Ch_2_antenna.dat\n",
      "EMPTY FILE: Data/2013-06-14-16/2013-06-14-16-28-59_Ch_2_antenna.dat\n",
      "EMPTY FILE: Data/2013-06-14-16/2013-06-14-16-41-22_Ch_2_noise.dat\n",
      "EMPTY FILE: Data/2013-06-14-16/2013-06-14-16-41-31_Ch_2_antenna.dat\n",
      "EMPTY FILE: Data/2013-06-14-16/2013-06-14-16-41-43_Ch_2_antenna.dat\n",
      "EMPTY FILE: Data/2013-06-14-20/2013-06-14-20-39-14_Ch_2_antenna.dat\n",
      "EMPTY FILE: Data/2013-06-14-20/2013-06-14-20-39-25_Ch_2_antenna.dat\n",
      "EMPTY FILE: Data/2013-06-14-20/2013-06-14-20-39-35_Ch_2_antenna.dat\n",
      "EMPTY FILE: Data/2013-06-14-20/2013-06-14-20-50-48_Ch_2_antenna.dat\n",
      "EMPTY FILE: Data/2013-06-14-20/2013-06-14-20-50-59_Ch_2_antenna.dat\n",
      "EMPTY FILE: Data/2013-06-14-20/2013-06-14-20-51-10_Ch_2_antenna.dat\n",
      "EMPTY FILE: Data/2013-06-14-21/2013-06-14-21-02-56_Ch_2_antenna.dat\n",
      "EMPTY FILE: Data/2013-06-14-21/2013-06-14-21-03-07_Ch_2_antenna.dat\n",
      "EMPTY FILE: Data/2013-06-14-21/2013-06-14-21-03-19_Ch_2_antenna.dat\n",
      "EMPTY FILE: Data/2013-06-14-21/2013-06-14-21-16-26_Ch_2_antenna.dat\n",
      "EMPTY FILE: Data/2013-06-14-21/2013-06-14-21-16-37_Ch_2_antenna.dat\n",
      "EMPTY FILE: Data/2013-06-14-21/2013-06-14-21-16-48_Ch_2_antenna.dat\n",
      "EMPTY FILE: Data/2013-06-14-21/2013-06-14-21-32-28_Ch_2_antenna.dat\n",
      "EMPTY FILE: Data/2013-06-14-21/2013-06-14-21-32-39_Ch_2_antenna.dat\n",
      "EMPTY FILE: Data/2013-06-14-21/2013-06-14-21-32-50_Ch_2_antenna.dat\n",
      "EMPTY FILE: Data/2013-06-14-21/2013-06-14-21-52-17_Ch_2_antenna.dat\n",
      "EMPTY FILE: Data/2013-06-14-21/2013-06-14-21-52-28_Ch_2_antenna.dat\n",
      "EMPTY FILE: Data/2013-06-14-21/2013-06-14-21-52-39_Ch_2_antenna.dat\n",
      "EMPTY FILE: Data/2013-06-14-22/2013-06-14-22-17-33_Ch_2_antenna.dat\n",
      "EMPTY FILE: Data/2013-06-14-22/2013-06-14-22-17-44_Ch_2_antenna.dat\n",
      "EMPTY FILE: Data/2013-06-14-22/2013-06-14-22-17-55_Ch_2_antenna.dat\n",
      "EMPTY FILE: Data/2013-06-14-22/2013-06-14-22-54-45_Ch_2_antenna.dat\n",
      "EMPTY FILE: Data/2013-06-14-22/2013-06-14-22-54-56_Ch_2_antenna.dat\n",
      "EMPTY FILE: Data/2013-06-14-22/2013-06-14-22-55-07_Ch_2_antenna.dat\n",
      "EMPTY FILE: Data/2013-06-14-23/2013-06-14-23-57-50_Ch_2_antenna.dat\n",
      "EMPTY FILE: Data/2013-06-14-23/2013-06-14-23-58-01_Ch_2_antenna.dat\n",
      "EMPTY FILE: Data/2013-06-14-23/2013-06-14-23-58-12_Ch_2_antenna.dat\n",
      "EMPTY FILE: Data/2013-06-15-04/2013-06-15-04-24-51_Ch_2_open.dat\n",
      "EMPTY FILE: Data/2013-06-15-04/2013-06-15-04-24-59_Ch_2_short.dat\n",
      "EMPTY FILE: Data/2013-06-15-04/2013-06-15-04-25-08_Ch_2_50ohm.dat\n",
      "EMPTY FILE: Data/2013-06-15-23/2013-06-15-23-14-46_Ch_2_antenna.dat\n",
      "EMPTY FILE: Data/2013-06-15-23/2013-06-15-23-14-57_Ch_2_antenna.dat\n",
      "EMPTY FILE: Data/2013-06-15-23/2013-06-15-23-15-08_Ch_2_antenna.dat\n",
      "EMPTY FILE: Data/2013-06-15-23/2013-06-15-23-28-13_Ch_2_antenna.dat\n",
      "EMPTY FILE: Data/2013-06-15-23/2013-06-15-23-28-24_Ch_2_antenna.dat\n",
      "EMPTY FILE: Data/2013-06-15-23/2013-06-15-23-28-35_Ch_2_antenna.dat\n",
      "EMPTY FILE: Data/2013-06-15-23/2013-06-15-23-43-20_Ch_2_antenna.dat\n",
      "EMPTY FILE: Data/2013-06-15-23/2013-06-15-23-43-31_Ch_2_antenna.dat\n",
      "EMPTY FILE: Data/2013-06-15-23/2013-06-15-23-43-42_Ch_2_antenna.dat\n",
      "EMPTY FILE: Data/2013-06-16-00/2013-06-16-00-01-05_Ch_2_antenna.dat\n",
      "EMPTY FILE: Data/2013-06-16-00/2013-06-16-00-01-16_Ch_2_antenna.dat\n",
      "EMPTY FILE: Data/2013-06-16-00/2013-06-16-00-01-27_Ch_2_antenna.dat\n",
      "EMPTY FILE: Data/2013-06-16-00/2013-06-16-00-19-10_Ch_2_antenna.dat\n",
      "EMPTY FILE: Data/2013-06-16-00/2013-06-16-00-19-21_Ch_2_antenna.dat\n",
      "EMPTY FILE: Data/2013-06-16-00/2013-06-16-00-19-32_Ch_2_antenna.dat\n"
     ]
    },
    {
     "ename": "IndexError",
     "evalue": "too many indices for array",
     "output_type": "error",
     "traceback": [
      "\u001b[0;31m---------------------------------------------------------------------------\u001b[0m",
      "\u001b[0;31mIndexError\u001b[0m                                Traceback (most recent call last)",
      "\u001b[0;32m<ipython-input-2-c4a7a659d42a>\u001b[0m in \u001b[0;36m<module>\u001b[0;34m()\u001b[0m\n\u001b[0;32m----> 1\u001b[0;31m \u001b[0mFilter\u001b[0m\u001b[0;34m(\u001b[0m\u001b[0mPATH\u001b[0m\u001b[0;34m=\u001b[0m\u001b[0;34m'Data'\u001b[0m\u001b[0;34m,\u001b[0m\u001b[0mOutput_folder\u001b[0m\u001b[0;34m=\u001b[0m\u001b[0;34m'Data_filter_93dBm'\u001b[0m\u001b[0;34m,\u001b[0m\u001b[0moutcome\u001b[0m\u001b[0;34m=\u001b[0m\u001b[0;36m93.0\u001b[0m\u001b[0;34m)\u001b[0m\u001b[0;34m\u001b[0m\u001b[0m\n\u001b[0m",
      "\u001b[0;32m/home/hiram/Documentos/Tesis/Codes/filter.py\u001b[0m in \u001b[0;36mFilter\u001b[0;34m(PATH, Output_folder, outcome)\u001b[0m\n\u001b[1;32m     90\u001b[0m                 \u001b[0mT_antenna\u001b[0m \u001b[0;34m=\u001b[0m \u001b[0mRadio_source_trans\u001b[0m\u001b[0;34m(\u001b[0m\u001b[0mdB_clean\u001b[0m\u001b[0;34m,\u001b[0m \u001b[0mFreqs\u001b[0m\u001b[0;34m,\u001b[0m \u001b[0mbwidth\u001b[0m\u001b[0;34m)\u001b[0m\u001b[0;34m\u001b[0m\u001b[0m\n\u001b[1;32m     91\u001b[0m                 \u001b[0mT_measure\u001b[0m \u001b[0;34m=\u001b[0m \u001b[0mT_antenna\u001b[0m\u001b[0;34m/\u001b[0m\u001b[0meta_nu\u001b[0m \u001b[0;34m-\u001b[0m \u001b[0mT_short\u001b[0m \u001b[0;31m# Uncalibrated measure\u001b[0m\u001b[0;34m\u001b[0m\u001b[0m\n\u001b[0;32m---> 92\u001b[0;31m                 \u001b[0mTamb\u001b[0m \u001b[0;34m=\u001b[0m \u001b[0mround\u001b[0m\u001b[0;34m(\u001b[0m\u001b[0mnp\u001b[0m\u001b[0;34m.\u001b[0m\u001b[0mgenfromtxt\u001b[0m\u001b[0;34m(\u001b[0m\u001b[0mpath\u001b[0m\u001b[0;34m,\u001b[0m\u001b[0mcomments\u001b[0m\u001b[0;34m=\u001b[0m\u001b[0;34m'!'\u001b[0m\u001b[0;34m,\u001b[0m\u001b[0mskip_header\u001b[0m\u001b[0;34m=\u001b[0m \u001b[0;36m18\u001b[0m\u001b[0;34m,\u001b[0m\u001b[0mmax_rows\u001b[0m\u001b[0;34m=\u001b[0m\u001b[0;36m1\u001b[0m\u001b[0;34m)\u001b[0m\u001b[0;34m[\u001b[0m\u001b[0;36m1\u001b[0m\u001b[0;34m]\u001b[0m\u001b[0;34m+\u001b[0m\u001b[0;36m273.15\u001b[0m\u001b[0;34m,\u001b[0m\u001b[0;36m2\u001b[0m\u001b[0;34m)\u001b[0m\u001b[0;34m\u001b[0m\u001b[0m\n\u001b[0m\u001b[1;32m     93\u001b[0m                 \u001b[0mKjnc\u001b[0m \u001b[0;34m=\u001b[0m \u001b[0mTamb\u001b[0m\u001b[0;34m/\u001b[0m\u001b[0;34m(\u001b[0m\u001b[0mT_50ohm\u001b[0m\u001b[0;34m-\u001b[0m\u001b[0mT_short\u001b[0m\u001b[0;34m)\u001b[0m \u001b[0;31m# Johnson-noise calibration coefficient\u001b[0m\u001b[0;34m\u001b[0m\u001b[0m\n\u001b[1;32m     94\u001b[0m                 \u001b[0mantenna\u001b[0m\u001b[0;34m.\u001b[0m\u001b[0mappend\u001b[0m\u001b[0;34m(\u001b[0m\u001b[0mT_antenna\u001b[0m\u001b[0;34m)\u001b[0m\u001b[0;34m,\u001b[0m\u001b[0mmeasure\u001b[0m\u001b[0;34m.\u001b[0m\u001b[0mappend\u001b[0m\u001b[0;34m(\u001b[0m\u001b[0mT_measure\u001b[0m\u001b[0;34m)\u001b[0m\u001b[0;34m,\u001b[0m\u001b[0mK_jnc\u001b[0m\u001b[0;34m.\u001b[0m\u001b[0mappend\u001b[0m\u001b[0;34m(\u001b[0m\u001b[0mKjnc\u001b[0m\u001b[0;34m)\u001b[0m\u001b[0;34m\u001b[0m\u001b[0m\n",
      "\u001b[0;31mIndexError\u001b[0m: too many indices for array"
     ]
    }
   ],
   "source": [
    "Filter(PATH='Data',Output_folder='Data_filter_93dBm',outcome=93.0)"
   ]
  },
  {
   "cell_type": "code",
   "execution_count": 12,
   "metadata": {},
   "outputs": [],
   "source": [
    "day14 = glob.glob('Data_filter_93dBm/Tmeas/2013-06-14*')\n",
    "day14.sort()\n",
    "dfs = []\n",
    "for path in day14:\n",
    "    dfs.append(pd.read_hdf(path))\n",
    "big_frame1 = pd.concat(dfs, axis = 1)\n",
    "big_frame1.to_hdf('calibration/Day14_93dBm.hdf5','df')"
   ]
  },
  {
   "cell_type": "code",
   "execution_count": 13,
   "metadata": {},
   "outputs": [],
   "source": [
    "day15 = glob.glob('Data_filter_93dBm/Tmeas/2013-06-15*')\n",
    "day15.sort()\n",
    "dfs = []\n",
    "for path in day15:\n",
    "    dfs.append(pd.read_hdf(path))\n",
    "big_frame2 = pd.concat(dfs, axis = 1)\n",
    "big_frame2.to_hdf('calibration/Kjnc_Day15_93dBm.hdf5','df')"
   ]
  },
  {
   "cell_type": "code",
   "execution_count": 14,
   "metadata": {},
   "outputs": [],
   "source": [
    "all_data = [big_frame1,big_frame2]\n",
    "day14_15 = pd.concat(all_data,axis=1)\n",
    "day14_15.to_hdf('calibration/Days14_15_93dBm.hdf5','df')"
   ]
  },
  {
   "cell_type": "markdown",
   "metadata": {},
   "source": [
    "Since Oleg's calibration is JNC we will generate tables for the K (antenna gain) factor for the calibration."
   ]
  },
  {
   "cell_type": "code",
   "execution_count": 15,
   "metadata": {},
   "outputs": [],
   "source": [
    "day14 = glob.glob('Data_filter_93dBm/K_jnc/2013-06-14*')\n",
    "day14.sort()\n",
    "dfs = []\n",
    "for path in day14:\n",
    "    dfs.append(pd.read_hdf(path))\n",
    "big_frame1 = pd.concat(dfs, axis = 1)\n",
    "big_frame1.to_hdf('calibration/Kjnc_Day14_93dBm.hdf5','df')"
   ]
  },
  {
   "cell_type": "code",
   "execution_count": 16,
   "metadata": {},
   "outputs": [],
   "source": [
    "day15 = glob.glob('Data_filter_93dBm/K_jnc/2013-06-15*')\n",
    "day15.sort()\n",
    "dfs = []\n",
    "for path in day15:\n",
    "    dfs.append(pd.read_hdf(path))\n",
    "big_frame2 = pd.concat(dfs, axis = 1)\n",
    "big_frame2.to_hdf('calibration/Kjnc_Day15_93dBm.hdf5','df')"
   ]
  },
  {
   "cell_type": "code",
   "execution_count": 17,
   "metadata": {},
   "outputs": [],
   "source": [
    "all_data = [big_frame1,big_frame2]\n",
    "day14_15 = pd.concat(all_data,axis=1)\n",
    "day14_15.to_hdf('calibration/Kjnc_Days14_15_93dBm.hdf5','df')"
   ]
  },
  {
   "cell_type": "code",
   "execution_count": null,
   "metadata": {},
   "outputs": [],
   "source": []
  }
 ],
 "metadata": {
  "kernelspec": {
   "display_name": "Python 3",
   "language": "python",
   "name": "python3"
  },
  "language_info": {
   "codemirror_mode": {
    "name": "ipython",
    "version": 3
   },
   "file_extension": ".py",
   "mimetype": "text/x-python",
   "name": "python",
   "nbconvert_exporter": "python",
   "pygments_lexer": "ipython3",
   "version": "3.8.5"
  }
 },
 "nbformat": 4,
 "nbformat_minor": 4
}
