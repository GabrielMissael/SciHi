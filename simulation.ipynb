{
 "cells": [
  {
   "cell_type": "markdown",
   "metadata": {},
   "source": [
    "# Simulation"
   ]
  },
  {
   "cell_type": "code",
   "execution_count": 59,
   "metadata": {},
   "outputs": [],
   "source": [
    "import numpy as np\n",
    "import pandas as pd\n",
    "import healpy as hp\n",
    "from pygsm import GlobalSkyModel\n",
    "\n",
    "import matplotlib.pyplot as plt\n",
    "from matplotlib import cm\n",
    "from mpl_toolkits.mplot3d import Axes3D\n",
    "\n",
    "from power_to_temperature import *\n",
    "from Tgsm import*\n",
    "\n",
    "import os\n",
    "import glob\n",
    "import copy\n",
    "\n",
    "#for image storage\n",
    "impath = \"images/\"\n",
    "\n",
    "if not os.path.exists(impath):\n",
    "    os.makedirs(impath)"
   ]
  },
  {
   "cell_type": "markdown",
   "metadata": {},
   "source": [
    "## Pre-processing beam pattern data and getting GSM maps."
   ]
  },
  {
   "cell_type": "code",
   "execution_count": 13,
   "metadata": {},
   "outputs": [],
   "source": [
    "def hibiscus(pathtbeam = 'HIBiscus/', output = \"antenna_beam_biscus/\"):\n",
    "    '''\n",
    "    DESCRIPTION: Process the beam pattern of the HIBiscus antenna and puts the \n",
    "    separated hdf5 files in the \"antenna_beam\" folder. Each frequency\n",
    "    has an individual file e.g. \"050MHz.hdf5\"\n",
    "    \n",
    "    INPUT: pathbeam = path of folder with beam pattern .txt files\n",
    "    '''\n",
    "    \n",
    "    Freqs = np.arange(50,91)\n",
    "    for f in Freqs:\n",
    "        infile = pathtbeam+\"0%dMHz.txt\"%f\n",
    "        Data = np.loadtxt(infile)\n",
    "        df = pd.DataFrame(data = Data,columns = ['Theta','Phi','dB']) \n",
    "        df.to_hdf(output + '0%dMHz.hdf5'%f,'df')\n",
    "        \n",
    "def mango_peel(file = \"mango_peel_beam_pattern.dat\", output = \"antenna_beam_mango/\"):\n",
    "    '''\n",
    "    DESCRIPTION: Process the beam pattern of the Mango Peel or the HIBiscus antenna and puts the \n",
    "    separated hdf5 files in the \"antenna_beam\" folder. Each frequency\n",
    "    has an individual file e.g. \"050MHz.hdf5\"\n",
    "    \n",
    "    INPUT: file = location of beam pattern .dat file\n",
    "    '''\n",
    "    \n",
    "    df = pd.read_csv(file, sep=\", \", \n",
    "                 index_col=0, header=None, engine = \"python\") \n",
    "    \n",
    "    new_header = df.iloc[0] \n",
    "    df = df[1:]\n",
    "    df.columns = new_header\n",
    "    df.reset_index(inplace=True)\n",
    "    df.rename(columns = {0:\"THETA\"}, inplace = True)\n",
    "    \n",
    "    theta = list(df[\"THETA\"])\n",
    "    phi = list(df[\"'PHI'\"])\n",
    "    \n",
    "    Freq = np.arange(30000000.0, 150000000.0, 1000000)\n",
    "\n",
    "    for f in Freq:\n",
    "        data = df[f]\n",
    "\n",
    "        file = pd.DataFrame(list(zip(theta, phi, data)), columns =['Theta', 'Phi', 'dB'])\n",
    "\n",
    "        file[\"Theta\"] = pd.to_numeric(file[\"Theta\"], downcast=\"float\")\n",
    "        file[\"Phi\"] = pd.to_numeric(file[\"Phi\"], downcast=\"float\")\n",
    "        file[\"dB\"] = pd.to_numeric(file[\"dB\"], downcast=\"float\")\n",
    "\n",
    "        name = \"0\" + str(int(f/(1e+6))) + \"MHz\"\n",
    "        file.to_hdf(output+name+'.hdf5','df')"
   ]
  },
  {
   "cell_type": "code",
   "execution_count": 14,
   "metadata": {},
   "outputs": [],
   "source": [
    "if not os.path.exists('antenna_beam_mango'):\n",
    "    os.makedirs('antenna_beam_mango')\n",
    "    mango_peel()\n",
    "\n",
    "if not os.path.exists('antenna_beam_biscus'):\n",
    "    os.makedirs('antenna_beam_biscus')\n",
    "    hibiscus()\n",
    "    \n",
    "# Loads the GSM maps files in the folder \"gsm_maps\"\n",
    "if not os.path.exists('gsm_maps'):\n",
    "    os.makedirs('gsm_maps')\n",
    "        \n",
    "    Freqs = np.arange(50,91) #Frequency of interest 50-90 MHz.\n",
    "    for f in Freqs:\n",
    "        gsm = GlobalSkyModel()\n",
    "        gsm_map = gsm.generate(f)\n",
    "        DATA = pd.DataFrame(gsm_map)\n",
    "        DATA.to_hdf('gsm_maps/gsm_%dMHz.hdf5'%f,'df')"
   ]
  },
  {
   "cell_type": "markdown",
   "metadata": {},
   "source": [
    "## Generate simulated mock antenna pattern"
   ]
  },
  {
   "cell_type": "code",
   "execution_count": 15,
   "metadata": {},
   "outputs": [],
   "source": [
    "Freqs = np.arange(50,91)\n",
    "kB = 1.38064852e-23 #Boltzmann constant\n",
    "\n",
    "# Inverse transformation from Temp to dBms\n",
    "#Transformacion de dBm's a potencia\n",
    "P_dBm = lambda source: 30.+10*np.log10(source)\n",
    "\n",
    "\n",
    "def T2dBm(T, freqs, Bwidth):\n",
    "    T = np.array(T, dtype=np.float64)\n",
    "    \n",
    "    area = 1.0      # m^2\n",
    "    angle = 55.0    #degrees\n",
    "    theta = deg2arcsec(angle)\n",
    "    freq = freqs * 1e6 #Hz\n",
    "    wavelength = (c / freq) * 100.  # cm\n",
    "    \n",
    "    flux_Jy = T*theta**2/(1.36*wavelength**2.) #mJy\n",
    "    flux_Jy = flux_Jy / 1e3 # Jy\n",
    "    flux = flux_Jy / 1e26  # Jy\n",
    "    power = 0.5*flux*area/Bwidth\n",
    "    dBm = P_dBm(power)\n",
    "    return dBm"
   ]
  },
  {
   "cell_type": "code",
   "execution_count": 16,
   "metadata": {},
   "outputs": [],
   "source": [
    "for antenna in ['mango', 'biscus']:\n",
    "    \n",
    "    if not os.path.exists('mock_pattern_'+antenna):\n",
    "        os.makedirs('mock_pattern_'+antenna)\n",
    "\n",
    "        for Freq in Freqs:    \n",
    "            Data = pd.read_hdf('antenna_beam_'+antenna+'/0%dMHz.hdf5'%Freq)\n",
    "\n",
    "            theta,phi = np.radians(Data.values[:,0]),np.radians(Data.values[:,1])\n",
    "            X,Y,Z = np.sin(theta)*np.cos(phi),np.sin(theta)*np.sin(phi),np.cos(theta)\n",
    "            dB = Data.values[:,2]\n",
    "            Temp = Radio_source_trans(dB,Freq,1e6)\n",
    "            mock_temp = max(Temp)*np.exp(-0.5*(X/0.3)**2.-0.5*(Y/0.3)**2.)\n",
    "            mock_dBm = T2dBm(mock_temp,Freq,1e6)\n",
    "            mock_data = np.transpose([Data.values[:,0],Data.values[:,1],mock_dBm])\n",
    "\n",
    "            df = pd.DataFrame(data = mock_data,columns = ['Theta','Phi','dB']) \n",
    "            df.to_hdf('mock_pattern_'+antenna+'/0%dMHz.hdf5'%Freq,'df')"
   ]
  },
  {
   "cell_type": "markdown",
   "metadata": {},
   "source": [
    "## Generate simulated data (convolution) "
   ]
  },
  {
   "cell_type": "markdown",
   "metadata": {},
   "source": [
    "This part of the notebook generates an HDF5 table with the convolved temperatures of the antenna for a day of observation, the binnage in this case is 5 minutes, it can be changed by modifying the bins parameter.\n",
    "\n",
    "The function to use is T_gsm from Tgsm.py. \n",
    "\n",
    "Uncomment if needed."
   ]
  },
  {
   "cell_type": "code",
   "execution_count": 60,
   "metadata": {},
   "outputs": [],
   "source": [
    "# You can change the path to anywhere your antenna beam pattern files are.\n",
    "\n",
    "#T_gsm('2013-06-14 00:00:00',PATH='mock_pattern_biscus/',OUTPUT='mock_biscus/') \n",
    "#T_gsm('2013-06-14 00:00:00',PATH='mock_pattern_mango/',OUTPUT='mock_mango/')\n",
    "\n",
    "#T_gsm('2013-06-14 00:00:00', PATH = 'antenna_beam_biscus/', OUTPUT = \"biscus/\") \n",
    "#T_gsm('2013-06-14 00:00:00', PATH = 'antenna_beam_mango/', OUTPUT = \"mango/\")"
   ]
  },
  {
   "cell_type": "markdown",
   "metadata": {},
   "source": [
    "## Diurnal Variation and Simulated Temperature"
   ]
  },
  {
   "cell_type": "markdown",
   "metadata": {},
   "source": [
    "Checking the diurnal variation of the temperature for every frequency in the rage 50-90 MHz."
   ]
  },
  {
   "cell_type": "code",
   "execution_count": 18,
   "metadata": {},
   "outputs": [],
   "source": [
    "# Data generated in the convolution.\n",
    "Data_mango = pd.read_hdf('mango/Tgsm.hdf5')\n",
    "Data_biscus = pd.read_hdf('biscus/Tgsm.hdf5')\n",
    "\n",
    "Data_mock_mango = pd.read_hdf('mock_mango/Tgsm.hdf5')\n",
    "Data_mock_biscus = pd.read_hdf('mock_biscus/Tgsm.hdf5')\n",
    "\n",
    "Freqs = np.arange(50,91)"
   ]
  },
  {
   "cell_type": "markdown",
   "metadata": {},
   "source": [
    "Checking the Local Sidereal Time (LST) for the date, this is done in order to plot the diurnal variation of a given frequency in functiong of LST, this could be done in function of UTC, but for comparision with SCI-HI paper."
   ]
  },
  {
   "cell_type": "code",
   "execution_count": 19,
   "metadata": {},
   "outputs": [
    {
     "name": "stdout",
     "output_type": "stream",
     "text": [
      "LST time: 9h36m36.5988s\n"
     ]
    },
    {
     "data": {
      "text/latex": [
       "$9^\\mathrm{h}36^\\mathrm{m}36.5988^\\mathrm{s}$"
      ],
      "text/plain": [
       "<Longitude 9.61016633 hourangle>"
      ]
     },
     "execution_count": 19,
     "metadata": {},
     "output_type": "execute_result"
    }
   ],
   "source": [
    "check_LST('2013-06-14 00:00:00')"
   ]
  },
  {
   "cell_type": "code",
   "execution_count": 21,
   "metadata": {},
   "outputs": [
    {
     "data": {
      "text/plain": [
       "array([2.55997020e-05, 4.22410700e+24, 1.20741039e+25, ...,\n",
       "       1.20741039e+25, 4.22410700e+24, 1.35573532e-05])"
      ]
     },
     "execution_count": 21,
     "metadata": {},
     "output_type": "execute_result"
    }
   ],
   "source": [
    "f=70 #Frequency to check\n",
    "\n",
    "Temp"
   ]
  },
  {
   "cell_type": "code",
   "execution_count": 33,
   "metadata": {},
   "outputs": [
    {
     "data": {
      "text/plain": [
       "array([ 9.62      ,  9.95802817, 10.29605634, 10.63408451, 10.97211268,\n",
       "       11.31014085, 11.64816901, 11.98619718, 12.32422535, 12.66225352,\n",
       "       13.00028169, 13.33830986, 13.67633803, 14.0143662 , 14.35239437,\n",
       "       14.69042254, 15.0284507 , 15.36647887, 15.70450704, 16.04253521,\n",
       "       16.38056338, 16.71859155, 17.05661972, 17.39464789, 17.73267606,\n",
       "       18.07070423, 18.40873239, 18.74676056, 19.08478873, 19.4228169 ,\n",
       "       19.76084507, 20.09887324, 20.43690141, 20.77492958, 21.11295775,\n",
       "       21.45098592, 21.78901408, 22.12704225, 22.46507042, 22.80309859,\n",
       "       23.14112676, 23.47915493, 23.8171831 ,  0.15521127,  0.49323944,\n",
       "        0.83126761,  1.16929577,  1.50732394,  1.84535211,  2.18338028,\n",
       "        2.52140845,  2.85943662,  3.19746479,  3.53549296,  3.87352113,\n",
       "        4.2115493 ,  4.54957746,  4.88760563,  5.2256338 ,  5.56366197,\n",
       "        5.90169014,  6.23971831,  6.57774648,  6.91577465,  7.25380282,\n",
       "        7.59183099,  7.92985915,  8.26788732,  8.60591549,  8.94394366,\n",
       "        9.28197183,  9.62      ])"
      ]
     },
     "execution_count": 33,
     "metadata": {},
     "output_type": "execute_result"
    }
   ],
   "source": [
    "Time_"
   ]
  },
  {
   "cell_type": "code",
   "execution_count": 56,
   "metadata": {},
   "outputs": [
    {
     "data": {
      "text/plain": [
       "<matplotlib.legend.Legend at 0x7fd9148b8df0>"
      ]
     },
     "execution_count": 56,
     "metadata": {},
     "output_type": "execute_result"
    },
    {
     "data": {
      "image/png": "[encoded data removed]",
      "text/plain": [
       "<Figure size 432x288 with 1 Axes>"
      ]
     },
     "metadata": {
      "needs_background": "light"
     },
     "output_type": "display_data"
    }
   ],
   "source": [
    "Temp_mango = Data_mango.loc[f].values\n",
    "Temp_biscus = Data_biscus.loc[f].values\n",
    "Temp_mock_biscus = Data_mock_biscus.loc[f].values\n",
    "Temp_mock_mango = Data_mock_mango.loc[f].values\n",
    "\n",
    "Time_ = (np.linspace(0,24,len(Temp_mango))+9.62)%24 # For 2013-06-14 LST = UTC + 9:37 (9.62h)\n",
    "\n",
    "plt.plot(Time_,Temp_mock_mango, marker = 'o', linestyle = 'None', markersize = 3, label='Gaussian mango peel', color = '#1b9e77')\n",
    "plt.plot(Time_,Temp_mock_biscus, marker = 'v', linestyle = 'None', markersize = 3, label='Gaussian HIBiscus', color = '#d95f02')\n",
    "plt.plot(Time_,Temp_biscus, marker = 'p', linestyle = 'None', markersize = 3, label='Mango peel', color = '#7570b3')\n",
    "plt.plot(Time_,Temp_mango, marker = 'x', linestyle = 'None', markersize = 3, label='HIBiscus', color = '#e7298a')\n",
    "\n",
    "plt.xlabel('LST [Hours]')\n",
    "plt.ylabel('Temperature [Kelvin]')\n",
    "plt.xlim(0,24)\n",
    "plt.grid()\n",
    "plt.legend()\n",
    "#plt.savefig(impath+'variation_%dMHz.png'%f)"
   ]
  },
  {
   "cell_type": "markdown",
   "metadata": {},
   "source": [
    "Plotting the diurnal variation for every frequency in the range of 50-90 MHz.\n",
    "\n",
    "Note: No conversion to LST has be done in this part, so the plot's xlabel is in UTC."
   ]
  },
  {
   "cell_type": "code",
   "execution_count": 51,
   "metadata": {},
   "outputs": [
    {
     "data": {
      "text/plain": [
       "\"\\n\\nfor f in Freqs:\\n    Temp = Data.loc[f].values\\n    Time_ = np.linspace(0,24,len(Temp))\\n    plt.plot(Time_[::5],Temp[::5],'-o',markersize = 4)\\n    plt.xlabel('UTC [Hours]')\\n    plt.ylabel('Temperature [Kelvin]')\\n    plt.xlim(0,24)\\n    plt.grid()\\n    plt.savefig('Imagenes/mockvariation_%dMHz.png'%f)\\n    plt.close()\\n\\n\""
      ]
     },
     "execution_count": 51,
     "metadata": {},
     "output_type": "execute_result"
    }
   ],
   "source": [
    "'''\n",
    "\n",
    "for f in Freqs:\n",
    "    Temp = Data.loc[f].values\n",
    "    Time_ = np.linspace(0,24,len(Temp))\n",
    "    plt.plot(Time_[::5],Temp[::5],'-o',markersize = 4)\n",
    "    plt.xlabel('UTC [Hours]')\n",
    "    plt.ylabel('Temperature [Kelvin]')\n",
    "    plt.xlim(0,24)\n",
    "    plt.grid()\n",
    "    plt.savefig('Imagenes/mockvariation_%dMHz.png'%f)\n",
    "    plt.close()\n",
    "\n",
    "'''"
   ]
  },
  {
   "cell_type": "markdown",
   "metadata": {},
   "source": [
    "Plotting the temperature in function of the frequency for the date given."
   ]
  },
  {
   "cell_type": "code",
   "execution_count": 58,
   "metadata": {},
   "outputs": [
    {
     "data": {
      "image/png": "[encoded data removed]",
      "text/plain": [
       "<Figure size 432x288 with 1 Axes>"
      ]
     },
     "metadata": {
      "needs_background": "light"
     },
     "output_type": "display_data"
    }
   ],
   "source": [
    "Temp_mango = Data_mango['2013-06-14 08:00:00.000'].values\n",
    "Temp_biscus = Data_biscus['2013-06-14 08:00:00.000'].values\n",
    "Temp_mock_mango = Data_mock_mango['2013-06-14 08:00:00.000'].values\n",
    "Temp_mock_biscus = Data_mock_biscus['2013-06-14 08:00:00.000'].values\n",
    "\n",
    "plt.xlabel('Frequency [MHz]')\n",
    "plt.ylabel('Temperature [Kelvin]')\n",
    "\n",
    "plt.plot(Freqs,Temp_mock_mango, marker = 'o', linestyle = 'None',markersize = 3, label='Gaussian mango peel', color = '#1b9e77')\n",
    "plt.plot(Freqs,Temp_mock_biscus, marker = 'v', linestyle = 'None',markersize = 3, label='Gaussian HIBiscus', color = '#d95f02')\n",
    "plt.plot(Freqs,Temp_biscus, marker = 'p', linestyle = 'None',markersize = 3, label='Mango peel', color = '#7570b3')\n",
    "plt.plot(Freqs,Temp_mango, marker = 'x', linestyle = 'None', markersize = 3, label='HIBiscus', color = '#e7298a')\n",
    "\n",
    "#plt.xlim(60,90)\n",
    "#plt.ylim(1900,6500)\n",
    "plt.legend()\n",
    "#plt.savefig(impath+'FreqvsTemp.png')\n",
    "plt.show()"
   ]
  },
  {
   "cell_type": "code",
   "execution_count": null,
   "metadata": {},
   "outputs": [],
   "source": []
  }
 ],
 "metadata": {
  "kernelspec": {
   "display_name": "Python 3",
   "language": "python",
   "name": "python3"
  },
  "language_info": {
   "codemirror_mode": {
    "name": "ipython",
    "version": 3
   },
   "file_extension": ".py",
   "mimetype": "text/x-python",
   "name": "python",
   "nbconvert_exporter": "python",
   "pygments_lexer": "ipython3",
   "version": "3.8.5"
  }
 },
 "nbformat": 4,
 "nbformat_minor": 4
}
