{
 "cells": [
  {
   "cell_type": "markdown",
   "metadata": {},
   "source": [
    "# Simulated beam pattern"
   ]
  },
  {
   "cell_type": "markdown",
   "metadata": {},
   "source": [
    "## Pre-processing beam pattern data and getting GSM maps."
   ]
  },
  {
   "cell_type": "code",
   "execution_count": 1,
   "metadata": {},
   "outputs": [],
   "source": [
    "import numpy as np\n",
    "import pandas as pd\n",
    "import os\n",
    "import glob\n",
    "from pygsm import GlobalSkyModel"
   ]
  },
  {
   "cell_type": "code",
   "execution_count": 2,
   "metadata": {},
   "outputs": [],
   "source": [
    "def clean_folder():\n",
    "    '''\n",
    "    DESCRIPTION: Clean the folder \"antenna_beam\" before processing and separating \n",
    "    the beam pattern of some antenna (HIBiscus or Mango Peel)\n",
    "    '''\n",
    "    \n",
    "    files = glob.glob('antenna_beam/*')\n",
    "    for f in files:\n",
    "        os.remove(f)\n",
    "\n",
    "def hibiscus(pathtbeam = 'HIBiscus/'):\n",
    "    '''\n",
    "    DESCRIPTION: Process the beam pattern of the HIBiscus antenna and puts the \n",
    "    separated hdf5 files in the \"antenna_beam\" folder. Each frequency\n",
    "    has an individual file e.g. \"050MHz.hdf5\"\n",
    "    \n",
    "    INPUT: pathbeam = path of folder with beam pattern .txt files\n",
    "    '''\n",
    "    \n",
    "    clean_folder()\n",
    "    \n",
    "    Freqs = np.arange(50,91)\n",
    "    for f in Freqs:\n",
    "        infile = pathtbeam+\"0%dMHz.txt\"%f\n",
    "        Data = np.loadtxt(infile)\n",
    "        df = pd.DataFrame(data = Data,columns = ['Theta','Phi','dB']) \n",
    "        df.to_hdf('antenna_beam/0%dMHz.hdf5'%f,'df')\n",
    "        \n",
    "def mango_peel(file = \"mango_peel_beam_pattern.dat\"):\n",
    "    '''\n",
    "    DESCRIPTION: Process the beam pattern of the Mango Peel or the HIBiscus antenna and puts the \n",
    "    separated hdf5 files in the \"antenna_beam\" folder. Each frequency\n",
    "    has an individual file e.g. \"050MHz.hdf5\"\n",
    "    \n",
    "    INPUT: file = location of beam pattern .dat file\n",
    "    '''\n",
    "    \n",
    "    clean_folder()\n",
    "    \n",
    "    df = pd.read_csv(file, sep=\", \", \n",
    "                 index_col=0, header=None, engine = \"python\") \n",
    "    \n",
    "    new_header = df.iloc[0] \n",
    "    df = df[1:]\n",
    "    df.columns = new_header\n",
    "    df.reset_index(inplace=True)\n",
    "    df.rename(columns = {0:\"THETA\"}, inplace = True)\n",
    "    \n",
    "    theta = list(df[\"THETA\"])\n",
    "    phi = list(df[\"'PHI'\"])\n",
    "    \n",
    "    Freq = np.arange(30000000.0, 150000000.0, 1000000)\n",
    "\n",
    "    for f in Freq:\n",
    "        data = df[f]\n",
    "\n",
    "        file = pd.DataFrame(list(zip(theta, phi, data)), columns =['Theta', 'Phi', 'dB'])\n",
    "\n",
    "        file[\"Theta\"] = pd.to_numeric(file[\"Theta\"], downcast=\"float\")\n",
    "        file[\"Phi\"] = pd.to_numeric(file[\"Phi\"], downcast=\"float\")\n",
    "        file[\"dB\"] = pd.to_numeric(file[\"dB\"], downcast=\"float\")\n",
    "\n",
    "        name = \"0\" + str(int(f/(1e+6))) + \"MHz\"\n",
    "        file.to_hdf('antenna_beam/'+name+'.hdf5','df')"
   ]
  },
  {
   "cell_type": "code",
   "execution_count": 8,
   "metadata": {},
   "outputs": [],
   "source": [
    "if not os.path.exists('antenna_beam'):\n",
    "     os.makedirs('antenna_beam')\n",
    "\n",
    "#Remove the comment as needed (depending on which antenna you´re working on)\n",
    "\n",
    "##mango_peel()\n",
    "#hibiscus()"
   ]
  },
  {
   "cell_type": "code",
   "execution_count": 9,
   "metadata": {},
   "outputs": [],
   "source": [
    "# This code loads the GSM maps files in the folder \"gsm_maps\"\n",
    "\n",
    "if not os.path.exists('gsm_maps'):\n",
    "    os.makedirs('gsm_maps')\n",
    "        \n",
    "    Freqs = np.arange(50,91) #Frequency of interest 50-90 MHz.\n",
    "    for f in Freqs:\n",
    "        gsm = GlobalSkyModel()\n",
    "        gsm_map = gsm.generate(f)\n",
    "        DATA = pd.DataFrame(gsm_map)\n",
    "        DATA.to_hdf('gsm_maps/gsm_%dMHz.hdf5'%f,'df')"
   ]
  },
  {
   "cell_type": "code",
   "execution_count": null,
   "metadata": {},
   "outputs": [],
   "source": []
  }
 ],
 "metadata": {
  "kernelspec": {
   "display_name": "Python 3",
   "language": "python",
   "name": "python3"
  },
  "language_info": {
   "codemirror_mode": {
    "name": "ipython",
    "version": 3
   },
   "file_extension": ".py",
   "mimetype": "text/x-python",
   "name": "python",
   "nbconvert_exporter": "python",
   "pygments_lexer": "ipython3",
   "version": "3.8.5"
  }
 },
 "nbformat": 4,
 "nbformat_minor": 4
}
