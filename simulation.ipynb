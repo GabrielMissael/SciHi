{
 "cells": [
  {
   "cell_type": "markdown",
   "metadata": {},
   "source": [
    "# Simulated beam pattern"
   ]
  },
  {
   "cell_type": "code",
   "execution_count": 12,
   "metadata": {},
   "outputs": [],
   "source": [
    "import numpy as np\n",
    "import pandas as pd\n",
    "import healpy as hp\n",
    "from pygsm import GlobalSkyModel\n",
    "\n",
    "import matplotlib.pyplot as plt\n",
    "from matplotlib import cm\n",
    "from mpl_toolkits.mplot3d import Axes3D\n",
    "\n",
    "from power_to_temperature import *\n",
    "from Tgsm import*\n",
    "\n",
    "import os\n",
    "import glob\n",
    "import copy\n",
    "\n",
    "#for image storage\n",
    "impath = \"images/\"\n",
    "\n",
    "if not os.path.exists(impath):\n",
    "    os.makedirs(impath)"
   ]
  },
  {
   "cell_type": "markdown",
   "metadata": {},
   "source": [
    "## Pre-processing beam pattern data and getting GSM maps."
   ]
  },
  {
   "cell_type": "code",
   "execution_count": 13,
   "metadata": {},
   "outputs": [],
   "source": [
    "def hibiscus(pathtbeam = 'HIBiscus/', output = \"antenna_beam_biscus/\"):\n",
    "    '''\n",
    "    DESCRIPTION: Process the beam pattern of the HIBiscus antenna and puts the \n",
    "    separated hdf5 files in the \"antenna_beam\" folder. Each frequency\n",
    "    has an individual file e.g. \"050MHz.hdf5\"\n",
    "    \n",
    "    INPUT: pathbeam = path of folder with beam pattern .txt files\n",
    "    '''\n",
    "    \n",
    "    Freqs = np.arange(50,91)\n",
    "    for f in Freqs:\n",
    "        infile = pathtbeam+\"0%dMHz.txt\"%f\n",
    "        Data = np.loadtxt(infile)\n",
    "        df = pd.DataFrame(data = Data,columns = ['Theta','Phi','dB']) \n",
    "        df.to_hdf(output + '0%dMHz.hdf5'%f,'df')\n",
    "        \n",
    "def mango_peel(file = \"mango_peel_beam_pattern.dat\", output = \"antenna_beam_mango/\"):\n",
    "    '''\n",
    "    DESCRIPTION: Process the beam pattern of the Mango Peel or the HIBiscus antenna and puts the \n",
    "    separated hdf5 files in the \"antenna_beam\" folder. Each frequency\n",
    "    has an individual file e.g. \"050MHz.hdf5\"\n",
    "    \n",
    "    INPUT: file = location of beam pattern .dat file\n",
    "    '''\n",
    "    \n",
    "    df = pd.read_csv(file, sep=\", \", \n",
    "                 index_col=0, header=None, engine = \"python\") \n",
    "    \n",
    "    new_header = df.iloc[0] \n",
    "    df = df[1:]\n",
    "    df.columns = new_header\n",
    "    df.reset_index(inplace=True)\n",
    "    df.rename(columns = {0:\"THETA\"}, inplace = True)\n",
    "    \n",
    "    theta = list(df[\"THETA\"])\n",
    "    phi = list(df[\"'PHI'\"])\n",
    "    \n",
    "    Freq = np.arange(30000000.0, 150000000.0, 1000000)\n",
    "\n",
    "    for f in Freq:\n",
    "        data = df[f]\n",
    "\n",
    "        file = pd.DataFrame(list(zip(theta, phi, data)), columns =['Theta', 'Phi', 'dB'])\n",
    "\n",
    "        file[\"Theta\"] = pd.to_numeric(file[\"Theta\"], downcast=\"float\")\n",
    "        file[\"Phi\"] = pd.to_numeric(file[\"Phi\"], downcast=\"float\")\n",
    "        file[\"dB\"] = pd.to_numeric(file[\"dB\"], downcast=\"float\")\n",
    "\n",
    "        name = \"0\" + str(int(f/(1e+6))) + \"MHz\"\n",
    "        file.to_hdf(output+name+'.hdf5','df')"
   ]
  },
  {
   "cell_type": "code",
   "execution_count": 14,
   "metadata": {},
   "outputs": [],
   "source": [
    "if not os.path.exists('antenna_beam_mango'):\n",
    "    os.makedirs('antenna_beam_mango')\n",
    "    mango_peel()\n",
    "\n",
    "if not os.path.exists('antenna_beam_biscus'):\n",
    "    os.makedirs('antenna_beam_biscus')\n",
    "    hibiscus()\n",
    "    \n",
    "# Loads the GSM maps files in the folder \"gsm_maps\"\n",
    "if not os.path.exists('gsm_maps'):\n",
    "    os.makedirs('gsm_maps')\n",
    "        \n",
    "    Freqs = np.arange(50,91) #Frequency of interest 50-90 MHz.\n",
    "    for f in Freqs:\n",
    "        gsm = GlobalSkyModel()\n",
    "        gsm_map = gsm.generate(f)\n",
    "        DATA = pd.DataFrame(gsm_map)\n",
    "        DATA.to_hdf('gsm_maps/gsm_%dMHz.hdf5'%f,'df')"
   ]
  },
  {
   "cell_type": "markdown",
   "metadata": {},
   "source": [
    "## Generate simulated mock antenna pattern"
   ]
  },
  {
   "cell_type": "code",
   "execution_count": 15,
   "metadata": {},
   "outputs": [],
   "source": [
    "Freqs = np.arange(50,91)\n",
    "kB = 1.38064852e-23 #Boltzmann constant\n",
    "\n",
    "# Inverse transformation from Temp to dBms\n",
    "#Transformacion de dBm's a potencia\n",
    "P_dBm = lambda source: 30.+10*np.log10(source)\n",
    "\n",
    "\n",
    "def T2dBm(T, freqs, Bwidth):\n",
    "    T = np.array(T, dtype=np.float64)\n",
    "    \n",
    "    area = 1.0      # m^2\n",
    "    angle = 55.0    #degrees\n",
    "    theta = deg2arcsec(angle)\n",
    "    freq = freqs * 1e6 #Hz\n",
    "    wavelength = (c / freq) * 100.  # cm\n",
    "    \n",
    "    flux_Jy = T*theta**2/(1.36*wavelength**2.) #mJy\n",
    "    flux_Jy = flux_Jy / 1e3 # Jy\n",
    "    flux = flux_Jy / 1e26  # Jy\n",
    "    power = 0.5*flux*area/Bwidth\n",
    "    dBm = P_dBm(power)\n",
    "    return dBm"
   ]
  },
  {
   "cell_type": "code",
   "execution_count": 16,
   "metadata": {},
   "outputs": [],
   "source": [
    "for antenna in ['mango', 'biscus']:\n",
    "    \n",
    "    if not os.path.exists('mock_pattern_'+antenna):\n",
    "        os.makedirs('mock_pattern_'+antenna)\n",
    "\n",
    "        for Freq in Freqs:    \n",
    "            Data = pd.read_hdf('antenna_beam_'+antenna+'/0%dMHz.hdf5'%Freq)\n",
    "\n",
    "            theta,phi = np.radians(Data.values[:,0]),np.radians(Data.values[:,1])\n",
    "            X,Y,Z = np.sin(theta)*np.cos(phi),np.sin(theta)*np.sin(phi),np.cos(theta)\n",
    "            dB = Data.values[:,2]\n",
    "            Temp = Radio_source_trans(dB,Freq,1e6)\n",
    "            mock_temp = max(Temp)*np.exp(-0.5*(X/0.3)**2.-0.5*(Y/0.3)**2.)\n",
    "            mock_dBm = T2dBm(mock_temp,Freq,1e6)\n",
    "            mock_data = np.transpose([Data.values[:,0],Data.values[:,1],mock_dBm])\n",
    "\n",
    "            df = pd.DataFrame(data = mock_data,columns = ['Theta','Phi','dB']) \n",
    "            df.to_hdf('mock_pattern_'+antenna+'/0%dMHz.hdf5'%Freq,'df')"
   ]
  },
  {
   "cell_type": "markdown",
   "metadata": {},
   "source": [
    "## Generate simulated data (convolution) "
   ]
  },
  {
   "cell_type": "markdown",
   "metadata": {},
   "source": [
    "This part of the notebook generates an HDF5 table with the convolved temperatures of the antenna for a day of observation, the binnage in this case is 5 minutes, it can be changed by modifying the bins parameter.\n",
    "\n",
    "The function to use is T_gsm from Tgsm.py. "
   ]
  },
  {
   "cell_type": "code",
   "execution_count": 22,
   "metadata": {},
   "outputs": [
    {
     "ename": "KeyboardInterrupt",
     "evalue": "",
     "output_type": "error",
     "traceback": [
      "\u001b[0;31m---------------------------------------------------------------------------\u001b[0m",
      "\u001b[0;31mKeyboardInterrupt\u001b[0m                         Traceback (most recent call last)",
      "\u001b[0;32m<ipython-input-22-450fbc488083>\u001b[0m in \u001b[0;36m<module>\u001b[0;34m\u001b[0m\n\u001b[1;32m      1\u001b[0m \u001b[0;31m# You can change the path to anywhere your antenna beam pattern files are.\u001b[0m\u001b[0;34m\u001b[0m\u001b[0;34m\u001b[0m\u001b[0;34m\u001b[0m\u001b[0m\n\u001b[1;32m      2\u001b[0m \u001b[0;34m\u001b[0m\u001b[0m\n\u001b[0;32m----> 3\u001b[0;31m \u001b[0mT_gsm\u001b[0m\u001b[0;34m(\u001b[0m\u001b[0;34m'2013-06-14 00:00:00'\u001b[0m\u001b[0;34m,\u001b[0m\u001b[0mPATH\u001b[0m\u001b[0;34m=\u001b[0m\u001b[0;34m'mock_pattern/'\u001b[0m\u001b[0;34m,\u001b[0m\u001b[0mOUTPUT\u001b[0m\u001b[0;34m=\u001b[0m\u001b[0;34m'mock/'\u001b[0m\u001b[0;34m)\u001b[0m\u001b[0;34m\u001b[0m\u001b[0;34m\u001b[0m\u001b[0m\n\u001b[0m\u001b[1;32m      4\u001b[0m \u001b[0mT_gsm\u001b[0m\u001b[0;34m(\u001b[0m\u001b[0;34m'2013-06-14 00:00:00'\u001b[0m\u001b[0;34m)\u001b[0m\u001b[0;34m\u001b[0m\u001b[0;34m\u001b[0m\u001b[0m\n",
      "\u001b[0;32m/mnt/c/Users/missa/Documents/Universidad UG/Semestre5/Cosmologia/Servidor/SciHi/Tgsm.py\u001b[0m in \u001b[0;36mT_gsm\u001b[0;34m(time, freqs, bins, days, PATH, OUTPUT)\u001b[0m\n\u001b[1;32m    156\u001b[0m     \u001b[0;32mfor\u001b[0m \u001b[0mf\u001b[0m \u001b[0;32min\u001b[0m \u001b[0mFreqs\u001b[0m\u001b[0;34m:\u001b[0m\u001b[0;34m\u001b[0m\u001b[0;34m\u001b[0m\u001b[0m\n\u001b[1;32m    157\u001b[0m         \u001b[0;32mfor\u001b[0m \u001b[0mk\u001b[0m \u001b[0;32min\u001b[0m \u001b[0mrange\u001b[0m\u001b[0;34m(\u001b[0m\u001b[0mlen\u001b[0m\u001b[0;34m(\u001b[0m\u001b[0mtimes\u001b[0m\u001b[0;34m)\u001b[0m\u001b[0;34m)\u001b[0m\u001b[0;34m:\u001b[0m\u001b[0;34m\u001b[0m\u001b[0;34m\u001b[0m\u001b[0m\n\u001b[0;32m--> 158\u001b[0;31m             \u001b[0mdata\u001b[0m\u001b[0;34m[\u001b[0m\u001b[0mi\u001b[0m\u001b[0;34m,\u001b[0m\u001b[0mj\u001b[0m\u001b[0;34m]\u001b[0m \u001b[0;34m=\u001b[0m \u001b[0mconvolve\u001b[0m\u001b[0;34m(\u001b[0m\u001b[0mtimes\u001b[0m\u001b[0;34m[\u001b[0m\u001b[0mk\u001b[0m\u001b[0;34m]\u001b[0m\u001b[0;34m,\u001b[0m\u001b[0mf\u001b[0m\u001b[0;34m,\u001b[0m\u001b[0mPATH\u001b[0m\u001b[0;34m)\u001b[0m\u001b[0;34m\u001b[0m\u001b[0;34m\u001b[0m\u001b[0m\n\u001b[0m\u001b[1;32m    159\u001b[0m             \u001b[0mj\u001b[0m\u001b[0;34m+=\u001b[0m\u001b[0;36m1\u001b[0m\u001b[0;34m\u001b[0m\u001b[0;34m\u001b[0m\u001b[0m\n\u001b[1;32m    160\u001b[0m         \u001b[0mi\u001b[0m\u001b[0;34m+=\u001b[0m\u001b[0;36m1\u001b[0m\u001b[0;34m\u001b[0m\u001b[0;34m\u001b[0m\u001b[0m\n",
      "\u001b[0;32m/mnt/c/Users/missa/Documents/Universidad UG/Semestre5/Cosmologia/Servidor/SciHi/Tgsm.py\u001b[0m in \u001b[0;36mconvolve\u001b[0;34m(time, Freq, PATH)\u001b[0m\n\u001b[1;32m    116\u001b[0m     \u001b[0mbmap_gal\u001b[0m \u001b[0;34m=\u001b[0m \u001b[0mData\u001b[0m\u001b[0;34m.\u001b[0m\u001b[0mvalues\u001b[0m\u001b[0;34m[\u001b[0m\u001b[0;34m:\u001b[0m\u001b[0;34m,\u001b[0m\u001b[0;36m0\u001b[0m\u001b[0;34m]\u001b[0m\u001b[0;34m\u001b[0m\u001b[0;34m\u001b[0m\u001b[0m\n\u001b[1;32m    117\u001b[0m     \u001b[0mbmap_gal2\u001b[0m \u001b[0;34m=\u001b[0m \u001b[0mhp\u001b[0m\u001b[0;34m.\u001b[0m\u001b[0mud_grade\u001b[0m\u001b[0;34m(\u001b[0m\u001b[0mbmap_gal\u001b[0m\u001b[0;34m,\u001b[0m\u001b[0mnside\u001b[0m\u001b[0;34m)\u001b[0m\u001b[0;34m\u001b[0m\u001b[0;34m\u001b[0m\u001b[0m\n\u001b[0;32m--> 118\u001b[0;31m     \u001b[0ml\u001b[0m\u001b[0;34m,\u001b[0m\u001b[0mb\u001b[0m\u001b[0;34m,\u001b[0m\u001b[0mTemp\u001b[0m \u001b[0;34m=\u001b[0m \u001b[0mpattern\u001b[0m\u001b[0;34m(\u001b[0m\u001b[0mtime\u001b[0m\u001b[0;34m,\u001b[0m\u001b[0mFreq\u001b[0m\u001b[0;34m,\u001b[0m\u001b[0mPATH\u001b[0m\u001b[0;34m)\u001b[0m\u001b[0;34m\u001b[0m\u001b[0;34m\u001b[0m\u001b[0m\n\u001b[0m\u001b[1;32m    119\u001b[0m     \u001b[0mpix\u001b[0m \u001b[0;34m=\u001b[0m \u001b[0mhp\u001b[0m\u001b[0;34m.\u001b[0m\u001b[0mang2pix\u001b[0m\u001b[0;34m(\u001b[0m\u001b[0mnside\u001b[0m\u001b[0;34m,\u001b[0m\u001b[0ml\u001b[0m\u001b[0;34m,\u001b[0m \u001b[0mb\u001b[0m\u001b[0;34m,\u001b[0m \u001b[0mlonlat\u001b[0m\u001b[0;34m=\u001b[0m\u001b[0;32mTrue\u001b[0m\u001b[0;34m)\u001b[0m\u001b[0;34m\u001b[0m\u001b[0;34m\u001b[0m\u001b[0m\n\u001b[1;32m    120\u001b[0m     \u001b[0mbmap_pat\u001b[0m \u001b[0;34m=\u001b[0m \u001b[0mnp\u001b[0m\u001b[0;34m.\u001b[0m\u001b[0mzeros\u001b[0m\u001b[0;34m(\u001b[0m\u001b[0mhp\u001b[0m\u001b[0;34m.\u001b[0m\u001b[0mnside2npix\u001b[0m\u001b[0;34m(\u001b[0m\u001b[0mnside\u001b[0m\u001b[0;34m)\u001b[0m\u001b[0;34m)\u001b[0m\u001b[0;34m\u001b[0m\u001b[0;34m\u001b[0m\u001b[0m\n",
      "\u001b[0;32m/mnt/c/Users/missa/Documents/Universidad UG/Semestre5/Cosmologia/Servidor/SciHi/Tgsm.py\u001b[0m in \u001b[0;36mpattern\u001b[0;34m(time, Freq, PATH, lon, lat)\u001b[0m\n\u001b[1;32m     64\u001b[0m     \u001b[0mlat\u001b[0m\u001b[0;34m:\u001b[0m \u001b[0mDefault\u001b[0m \u001b[0mlatitud\u001b[0m \u001b[0;32mis\u001b[0m \u001b[0mgiven\u001b[0m \u001b[0;32mfor\u001b[0m \u001b[0mIsla\u001b[0m \u001b[0mde\u001b[0m \u001b[0mGuadalupe\u001b[0m \u001b[0mat\u001b[0m \u001b[0;36m28.9733\u001b[0m \u001b[0mdegrees\u001b[0m\u001b[0;34m\u001b[0m\u001b[0;34m\u001b[0m\u001b[0m\n\u001b[1;32m     65\u001b[0m     \"\"\"\n\u001b[0;32m---> 66\u001b[0;31m     \u001b[0mData\u001b[0m \u001b[0;34m=\u001b[0m \u001b[0mpd\u001b[0m\u001b[0;34m.\u001b[0m\u001b[0mread_hdf\u001b[0m\u001b[0;34m(\u001b[0m\u001b[0mPATH\u001b[0m\u001b[0;34m+\u001b[0m\u001b[0;34m\"0%dMHz.hdf5\"\u001b[0m\u001b[0;34m%\u001b[0m\u001b[0mFreq\u001b[0m\u001b[0;34m)\u001b[0m \u001b[0;31m#Change path if beam pattern is changed\u001b[0m\u001b[0;34m\u001b[0m\u001b[0;34m\u001b[0m\u001b[0m\n\u001b[0m\u001b[1;32m     67\u001b[0m     \u001b[0mt\u001b[0m \u001b[0;34m=\u001b[0m \u001b[0mTime\u001b[0m\u001b[0;34m(\u001b[0m\u001b[0mtime\u001b[0m\u001b[0;34m,\u001b[0m \u001b[0mlocation\u001b[0m \u001b[0;34m=\u001b[0m\u001b[0;34m(\u001b[0m\u001b[0mlon\u001b[0m\u001b[0;34m,\u001b[0m\u001b[0mlat\u001b[0m\u001b[0;34m)\u001b[0m\u001b[0;34m)\u001b[0m\u001b[0;34m\u001b[0m\u001b[0;34m\u001b[0m\u001b[0m\n\u001b[1;32m     68\u001b[0m     \u001b[0mLST\u001b[0m \u001b[0;34m=\u001b[0m \u001b[0mt\u001b[0m\u001b[0;34m.\u001b[0m\u001b[0msidereal_time\u001b[0m\u001b[0;34m(\u001b[0m\u001b[0;34m'mean'\u001b[0m\u001b[0;34m)\u001b[0m\u001b[0;34m.\u001b[0m\u001b[0mdegree\u001b[0m\u001b[0;34m\u001b[0m\u001b[0;34m\u001b[0m\u001b[0m\n",
      "\u001b[0;32m~/miniconda3/envs/universidad/lib/python3.8/site-packages/pandas/io/pytables.py\u001b[0m in \u001b[0;36mread_hdf\u001b[0;34m(path_or_buf, key, mode, errors, where, start, stop, columns, iterator, chunksize, **kwargs)\u001b[0m\n\u001b[1;32m    387\u001b[0m             \u001b[0;32mraise\u001b[0m \u001b[0mFileNotFoundError\u001b[0m\u001b[0;34m(\u001b[0m\u001b[0;34mf\"File {path_or_buf} does not exist\"\u001b[0m\u001b[0;34m)\u001b[0m\u001b[0;34m\u001b[0m\u001b[0;34m\u001b[0m\u001b[0m\n\u001b[1;32m    388\u001b[0m \u001b[0;34m\u001b[0m\u001b[0m\n\u001b[0;32m--> 389\u001b[0;31m         \u001b[0mstore\u001b[0m \u001b[0;34m=\u001b[0m \u001b[0mHDFStore\u001b[0m\u001b[0;34m(\u001b[0m\u001b[0mpath_or_buf\u001b[0m\u001b[0;34m,\u001b[0m \u001b[0mmode\u001b[0m\u001b[0;34m=\u001b[0m\u001b[0mmode\u001b[0m\u001b[0;34m,\u001b[0m \u001b[0merrors\u001b[0m\u001b[0;34m=\u001b[0m\u001b[0merrors\u001b[0m\u001b[0;34m,\u001b[0m \u001b[0;34m**\u001b[0m\u001b[0mkwargs\u001b[0m\u001b[0;34m)\u001b[0m\u001b[0;34m\u001b[0m\u001b[0;34m\u001b[0m\u001b[0m\n\u001b[0m\u001b[1;32m    390\u001b[0m         \u001b[0;31m# can't auto open/close if we are using an iterator\u001b[0m\u001b[0;34m\u001b[0m\u001b[0;34m\u001b[0m\u001b[0;34m\u001b[0m\u001b[0m\n\u001b[1;32m    391\u001b[0m         \u001b[0;31m# so delegate to the iterator\u001b[0m\u001b[0;34m\u001b[0m\u001b[0;34m\u001b[0m\u001b[0;34m\u001b[0m\u001b[0m\n",
      "\u001b[0;32m~/miniconda3/envs/universidad/lib/python3.8/site-packages/pandas/io/pytables.py\u001b[0m in \u001b[0;36m__init__\u001b[0;34m(self, path, mode, complevel, complib, fletcher32, **kwargs)\u001b[0m\n\u001b[1;32m    551\u001b[0m         \u001b[0mself\u001b[0m\u001b[0;34m.\u001b[0m\u001b[0m_fletcher32\u001b[0m \u001b[0;34m=\u001b[0m \u001b[0mfletcher32\u001b[0m\u001b[0;34m\u001b[0m\u001b[0;34m\u001b[0m\u001b[0m\n\u001b[1;32m    552\u001b[0m         \u001b[0mself\u001b[0m\u001b[0;34m.\u001b[0m\u001b[0m_filters\u001b[0m \u001b[0;34m=\u001b[0m \u001b[0;32mNone\u001b[0m\u001b[0;34m\u001b[0m\u001b[0;34m\u001b[0m\u001b[0m\n\u001b[0;32m--> 553\u001b[0;31m         \u001b[0mself\u001b[0m\u001b[0;34m.\u001b[0m\u001b[0mopen\u001b[0m\u001b[0;34m(\u001b[0m\u001b[0mmode\u001b[0m\u001b[0;34m=\u001b[0m\u001b[0mmode\u001b[0m\u001b[0;34m,\u001b[0m \u001b[0;34m**\u001b[0m\u001b[0mkwargs\u001b[0m\u001b[0;34m)\u001b[0m\u001b[0;34m\u001b[0m\u001b[0;34m\u001b[0m\u001b[0m\n\u001b[0m\u001b[1;32m    554\u001b[0m \u001b[0;34m\u001b[0m\u001b[0m\n\u001b[1;32m    555\u001b[0m     \u001b[0;32mdef\u001b[0m \u001b[0m__fspath__\u001b[0m\u001b[0;34m(\u001b[0m\u001b[0mself\u001b[0m\u001b[0;34m)\u001b[0m\u001b[0;34m:\u001b[0m\u001b[0;34m\u001b[0m\u001b[0;34m\u001b[0m\u001b[0m\n",
      "\u001b[0;32m~/miniconda3/envs/universidad/lib/python3.8/site-packages/pandas/io/pytables.py\u001b[0m in \u001b[0;36mopen\u001b[0;34m(self, mode, **kwargs)\u001b[0m\n\u001b[1;32m    695\u001b[0m \u001b[0;34m\u001b[0m\u001b[0m\n\u001b[1;32m    696\u001b[0m         \u001b[0;32mtry\u001b[0m\u001b[0;34m:\u001b[0m\u001b[0;34m\u001b[0m\u001b[0;34m\u001b[0m\u001b[0m\n\u001b[0;32m--> 697\u001b[0;31m             \u001b[0mself\u001b[0m\u001b[0;34m.\u001b[0m\u001b[0m_handle\u001b[0m \u001b[0;34m=\u001b[0m \u001b[0mtables\u001b[0m\u001b[0;34m.\u001b[0m\u001b[0mopen_file\u001b[0m\u001b[0;34m(\u001b[0m\u001b[0mself\u001b[0m\u001b[0;34m.\u001b[0m\u001b[0m_path\u001b[0m\u001b[0;34m,\u001b[0m \u001b[0mself\u001b[0m\u001b[0;34m.\u001b[0m\u001b[0m_mode\u001b[0m\u001b[0;34m,\u001b[0m \u001b[0;34m**\u001b[0m\u001b[0mkwargs\u001b[0m\u001b[0;34m)\u001b[0m\u001b[0;34m\u001b[0m\u001b[0;34m\u001b[0m\u001b[0m\n\u001b[0m\u001b[1;32m    698\u001b[0m         \u001b[0;32mexcept\u001b[0m \u001b[0mIOError\u001b[0m \u001b[0;32mas\u001b[0m \u001b[0merr\u001b[0m\u001b[0;34m:\u001b[0m  \u001b[0;31m# pragma: no cover\u001b[0m\u001b[0;34m\u001b[0m\u001b[0;34m\u001b[0m\u001b[0m\n\u001b[1;32m    699\u001b[0m             \u001b[0;32mif\u001b[0m \u001b[0;34m\"can not be written\"\u001b[0m \u001b[0;32min\u001b[0m \u001b[0mstr\u001b[0m\u001b[0;34m(\u001b[0m\u001b[0merr\u001b[0m\u001b[0;34m)\u001b[0m\u001b[0;34m:\u001b[0m\u001b[0;34m\u001b[0m\u001b[0;34m\u001b[0m\u001b[0m\n",
      "\u001b[0;32m~/miniconda3/envs/universidad/lib/python3.8/site-packages/tables/file.py\u001b[0m in \u001b[0;36mopen_file\u001b[0;34m(filename, mode, title, root_uep, filters, **kwargs)\u001b[0m\n\u001b[1;32m    313\u001b[0m \u001b[0;34m\u001b[0m\u001b[0m\n\u001b[1;32m    314\u001b[0m     \u001b[0;31m# Finally, create the File instance, and return it\u001b[0m\u001b[0;34m\u001b[0m\u001b[0;34m\u001b[0m\u001b[0;34m\u001b[0m\u001b[0m\n\u001b[0;32m--> 315\u001b[0;31m     \u001b[0;32mreturn\u001b[0m \u001b[0mFile\u001b[0m\u001b[0;34m(\u001b[0m\u001b[0mfilename\u001b[0m\u001b[0;34m,\u001b[0m \u001b[0mmode\u001b[0m\u001b[0;34m,\u001b[0m \u001b[0mtitle\u001b[0m\u001b[0;34m,\u001b[0m \u001b[0mroot_uep\u001b[0m\u001b[0;34m,\u001b[0m \u001b[0mfilters\u001b[0m\u001b[0;34m,\u001b[0m \u001b[0;34m**\u001b[0m\u001b[0mkwargs\u001b[0m\u001b[0;34m)\u001b[0m\u001b[0;34m\u001b[0m\u001b[0;34m\u001b[0m\u001b[0m\n\u001b[0m\u001b[1;32m    316\u001b[0m \u001b[0;34m\u001b[0m\u001b[0m\n\u001b[1;32m    317\u001b[0m \u001b[0;34m\u001b[0m\u001b[0m\n",
      "\u001b[0;32m~/miniconda3/envs/universidad/lib/python3.8/site-packages/tables/file.py\u001b[0m in \u001b[0;36m__init__\u001b[0;34m(self, filename, mode, title, root_uep, filters, **kwargs)\u001b[0m\n\u001b[1;32m    776\u001b[0m \u001b[0;34m\u001b[0m\u001b[0m\n\u001b[1;32m    777\u001b[0m         \u001b[0;31m# Now, it is time to initialize the File extension\u001b[0m\u001b[0;34m\u001b[0m\u001b[0;34m\u001b[0m\u001b[0;34m\u001b[0m\u001b[0m\n\u001b[0;32m--> 778\u001b[0;31m         \u001b[0mself\u001b[0m\u001b[0;34m.\u001b[0m\u001b[0m_g_new\u001b[0m\u001b[0;34m(\u001b[0m\u001b[0mfilename\u001b[0m\u001b[0;34m,\u001b[0m \u001b[0mmode\u001b[0m\u001b[0;34m,\u001b[0m \u001b[0;34m**\u001b[0m\u001b[0mparams\u001b[0m\u001b[0;34m)\u001b[0m\u001b[0;34m\u001b[0m\u001b[0;34m\u001b[0m\u001b[0m\n\u001b[0m\u001b[1;32m    779\u001b[0m \u001b[0;34m\u001b[0m\u001b[0m\n\u001b[1;32m    780\u001b[0m         \u001b[0;31m# Check filters and set PyTables format version for new files.\u001b[0m\u001b[0;34m\u001b[0m\u001b[0;34m\u001b[0m\u001b[0;34m\u001b[0m\u001b[0m\n",
      "\u001b[0;31mKeyboardInterrupt\u001b[0m: "
     ]
    }
   ],
   "source": [
    "# You can change the path to anywhere your antenna beam pattern files are.\n",
    "\n",
    "T_gsm('2013-06-14 00:00:00',PATH='mock_pattern_biscus/',OUTPUT='mock_biscus/') \n",
    "T_gsm('2013-06-14 00:00:00',PATH='mock_pattern_mango/',OUTPUT='mock_mango/')\n",
    "\n",
    "T_gsm('2013-06-14 00:00:00', PATH = 'antenna_beam_biscus/', OUTPUT = \"biscus\") \n",
    "T_gsm('2013-06-14 00:00:00', PATH = 'antenna_beam_mango/', OUTPUT = \"mango\")"
   ]
  },
  {
   "cell_type": "markdown",
   "metadata": {},
   "source": [
    "## Diurnal Variation and Simulated Temperature"
   ]
  },
  {
   "cell_type": "markdown",
   "metadata": {},
   "source": [
    "Checking the diurnal variation of the temperature for every frequency in the rage 50-90 MHz."
   ]
  },
  {
   "cell_type": "code",
   "execution_count": null,
   "metadata": {},
   "outputs": [],
   "source": [
    "# Data generated in the convolution.\n",
    "Data = pd.read_hdf('calibration/Tgsm.hdf5')\n",
    "Data_mock = pd.read_hdf('mock/Tgsm.hdf5')\n",
    "Freqs = np.arange(50,91)"
   ]
  },
  {
   "cell_type": "markdown",
   "metadata": {},
   "source": [
    "Checking the Local Sidereal Time (LST) for the date, this is done in order to plot the diurnal variation of a given frequency in functiong of LST, this could be done in function of UTC, but for comparision with SCI-HI paper."
   ]
  },
  {
   "cell_type": "code",
   "execution_count": null,
   "metadata": {},
   "outputs": [],
   "source": [
    "check_LST('2013-06-14 00:00:00')"
   ]
  },
  {
   "cell_type": "code",
   "execution_count": null,
   "metadata": {},
   "outputs": [],
   "source": [
    "f=70 #Frequency to check\n",
    "Temp = Data.loc[f].values\n",
    "Temp_mock = Data_mock.loc[f].values\n",
    "Time_ = (np.linspace(0,24,len(Temp))+9.62)%24 # For 2013-06-14 LST = UTC + 9:37 (9.62h)\n",
    "plt.plot(Time_,Temp_mock,'go',markersize = 3,label='Gaussian')\n",
    "plt.plot(Time_,Temp,'bo',markersize = 4,label='HIbiscus')\n",
    "plt.xlabel('LST [Hours]')\n",
    "plt.ylabel('Temperature [Kelvin]')\n",
    "plt.xlim(0,24)\n",
    "plt.grid()\n",
    "plt.legend()\n",
    "plt.savefig(impath+'variation_%dMHz.png'%f)"
   ]
  },
  {
   "cell_type": "markdown",
   "metadata": {},
   "source": [
    "Plotting the diurnal variation for every frequency in the range of 50-90 MHz.\n",
    "\n",
    "Note: No conversion to LST has be done in this part, so the plot's xlabel is in UTC."
   ]
  },
  {
   "cell_type": "code",
   "execution_count": null,
   "metadata": {},
   "outputs": [],
   "source": [
    "'''\n",
    "\n",
    "for f in Freqs:\n",
    "    Temp = Data.loc[f].values\n",
    "    Time_ = np.linspace(0,24,len(Temp))\n",
    "    plt.plot(Time_[::5],Temp[::5],'-o',markersize = 4)\n",
    "    plt.xlabel('UTC [Hours]')\n",
    "    plt.ylabel('Temperature [Kelvin]')\n",
    "    plt.xlim(0,24)\n",
    "    plt.grid()\n",
    "    plt.savefig('Imagenes/mockvariation_%dMHz.png'%f)\n",
    "    plt.close()\n",
    "\n",
    "'''"
   ]
  },
  {
   "cell_type": "markdown",
   "metadata": {},
   "source": [
    "Plotting the temperature in function of the frequency for the date given."
   ]
  },
  {
   "cell_type": "code",
   "execution_count": null,
   "metadata": {},
   "outputs": [],
   "source": [
    "Temp = Data['2013-06-14 08:00:00.000'].values\n",
    "Temp_mock = Data_mock['2013-06-14 08:00:00.000'].values\n",
    "plt.xlabel('Frequency [MHz]')\n",
    "plt.ylabel('Temperature [Kelvin]')\n",
    "plt.plot(Freqs,Temp,'-b',label='HIbiscus')\n",
    "plt.plot(Freqs,Temp,'ko', markersize=4)\n",
    "plt.plot(Freqs,Temp_mock,'-g',label='Gaussian')\n",
    "plt.plot(Freqs,Temp_mock,'ko', markersize=4)\n",
    "#plt.xlim(60,90)\n",
    "#plt.ylim(1900,6500)\n",
    "plt.legend()\n",
    "plt.savefig(impath+'FreqvsTemp.png')\n",
    "plt.show()"
   ]
  },
  {
   "cell_type": "code",
   "execution_count": null,
   "metadata": {},
   "outputs": [],
   "source": []
  }
 ],
 "metadata": {
  "kernelspec": {
   "display_name": "Python 3",
   "language": "python",
   "name": "python3"
  },
  "language_info": {
   "codemirror_mode": {
    "name": "ipython",
    "version": 3
   },
   "file_extension": ".py",
   "mimetype": "text/x-python",
   "name": "python",
   "nbconvert_exporter": "python",
   "pygments_lexer": "ipython3",
   "version": "3.8.5"
  }
 },
 "nbformat": 4,
 "nbformat_minor": 4
}
